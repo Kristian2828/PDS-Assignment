{
 "cells": [
  {
   "cell_type": "markdown",
   "metadata": {},
   "source": [
    "### Imports"
   ]
  },
  {
   "cell_type": "code",
   "execution_count": 1,
   "metadata": {},
   "outputs": [],
   "source": [
    "import numpy as np\n",
    "import pandas as pd\n",
    "import matplotlib.pyplot as plt\n",
    "from sklearn.model_selection import GridSearchCV, train_test_split\n",
    "from sklearn.pipeline import Pipeline\n",
    "from sklearn.feature_extraction.text import TfidfVectorizer\n",
    "from sklearn.svm import LinearSVC\n",
    "from sklearn.metrics import classification_report, ConfusionMatrixDisplay"
   ]
  },
  {
   "cell_type": "markdown",
   "metadata": {},
   "source": [
    "### Load Data"
   ]
  },
  {
   "cell_type": "code",
   "execution_count": 2,
   "metadata": {},
   "outputs": [
    {
     "data": {
      "text/html": [
       "<div>\n",
       "<style scoped>\n",
       "    .dataframe tbody tr th:only-of-type {\n",
       "        vertical-align: middle;\n",
       "    }\n",
       "\n",
       "    .dataframe tbody tr th {\n",
       "        vertical-align: top;\n",
       "    }\n",
       "\n",
       "    .dataframe thead th {\n",
       "        text-align: right;\n",
       "    }\n",
       "</style>\n",
       "<table border=\"1\" class=\"dataframe\">\n",
       "  <thead>\n",
       "    <tr style=\"text-align: right;\">\n",
       "      <th></th>\n",
       "      <th>text</th>\n",
       "      <th>label</th>\n",
       "    </tr>\n",
       "  </thead>\n",
       "  <tbody>\n",
       "    <tr>\n",
       "      <th>0</th>\n",
       "      <td>bought fender telecaster salesperson told orig...</td>\n",
       "      <td>negative</td>\n",
       "    </tr>\n",
       "    <tr>\n",
       "      <th>1</th>\n",
       "      <td>visit son restaurant desert home food authenti...</td>\n",
       "      <td>positive</td>\n",
       "    </tr>\n",
       "    <tr>\n",
       "      <th>2</th>\n",
       "      <td>danielle great job listened cut hair way reque...</td>\n",
       "      <td>positive</td>\n",
       "    </tr>\n",
       "    <tr>\n",
       "      <th>3</th>\n",
       "      <td>saw lot roaches bathroom woke bed large dark s...</td>\n",
       "      <td>negative</td>\n",
       "    </tr>\n",
       "    <tr>\n",
       "      <th>4</th>\n",
       "      <td>ordered pork fried rice beef chow mei fun teri...</td>\n",
       "      <td>negative</td>\n",
       "    </tr>\n",
       "  </tbody>\n",
       "</table>\n",
       "</div>"
      ],
      "text/plain": [
       "                                                text     label\n",
       "0  bought fender telecaster salesperson told orig...  negative\n",
       "1  visit son restaurant desert home food authenti...  positive\n",
       "2  danielle great job listened cut hair way reque...  positive\n",
       "3  saw lot roaches bathroom woke bed large dark s...  negative\n",
       "4  ordered pork fried rice beef chow mei fun teri...  negative"
      ]
     },
     "execution_count": 2,
     "metadata": {},
     "output_type": "execute_result"
    }
   ],
   "source": [
    "df = pd.read_csv(\"../data/review_2022_clean.csv\")\n",
    "df.head()"
   ]
  },
  {
   "cell_type": "code",
   "execution_count": 3,
   "metadata": {},
   "outputs": [
    {
     "data": {
      "text/html": [
       "<div>\n",
       "<style scoped>\n",
       "    .dataframe tbody tr th:only-of-type {\n",
       "        vertical-align: middle;\n",
       "    }\n",
       "\n",
       "    .dataframe tbody tr th {\n",
       "        vertical-align: top;\n",
       "    }\n",
       "\n",
       "    .dataframe thead th {\n",
       "        text-align: right;\n",
       "    }\n",
       "</style>\n",
       "<table border=\"1\" class=\"dataframe\">\n",
       "  <thead>\n",
       "    <tr style=\"text-align: right;\">\n",
       "      <th></th>\n",
       "      <th>text</th>\n",
       "      <th>label</th>\n",
       "    </tr>\n",
       "  </thead>\n",
       "  <tbody>\n",
       "    <tr>\n",
       "      <th>0</th>\n",
       "      <td>i bought a fender telecaster that the salesper...</td>\n",
       "      <td>negative</td>\n",
       "    </tr>\n",
       "    <tr>\n",
       "      <th>1</th>\n",
       "      <td>this is our go to for take out when i visit my...</td>\n",
       "      <td>positive</td>\n",
       "    </tr>\n",
       "    <tr>\n",
       "      <th>2</th>\n",
       "      <td>danielle did a great job she listened and cut ...</td>\n",
       "      <td>positive</td>\n",
       "    </tr>\n",
       "    <tr>\n",
       "      <th>3</th>\n",
       "      <td>we saw a lot of roaches in the bathroom when w...</td>\n",
       "      <td>negative</td>\n",
       "    </tr>\n",
       "    <tr>\n",
       "      <th>4</th>\n",
       "      <td>we ordered pork fried rice and beef chow mei f...</td>\n",
       "      <td>negative</td>\n",
       "    </tr>\n",
       "  </tbody>\n",
       "</table>\n",
       "</div>"
      ],
      "text/plain": [
       "                                                text     label\n",
       "0  i bought a fender telecaster that the salesper...  negative\n",
       "1  this is our go to for take out when i visit my...  positive\n",
       "2  danielle did a great job she listened and cut ...  positive\n",
       "3  we saw a lot of roaches in the bathroom when w...  negative\n",
       "4  we ordered pork fried rice and beef chow mei f...  negative"
      ]
     },
     "execution_count": 3,
     "metadata": {},
     "output_type": "execute_result"
    }
   ],
   "source": [
    "df_sw = pd.read_csv(\"../data/review_2022_clean_sw.csv\")\n",
    "df_sw.head()"
   ]
  },
  {
   "cell_type": "markdown",
   "metadata": {},
   "source": [
    "### Train-Test Split"
   ]
  },
  {
   "cell_type": "markdown",
   "metadata": {},
   "source": [
    "Create a function to perform train-test split."
   ]
  },
  {
   "cell_type": "code",
   "execution_count": 4,
   "metadata": {},
   "outputs": [],
   "source": [
    "def split(stop_words=False):\n",
    "  if stop_words:\n",
    "    X = df_sw[\"text\"]\n",
    "    y = df_sw[\"label\"]\n",
    "  else:\n",
    "    X = df[\"text\"]\n",
    "    y = df[\"label\"]\n",
    "  return train_test_split(X, y, test_size=0.2, random_state=42)"
   ]
  },
  {
   "cell_type": "code",
   "execution_count": 5,
   "metadata": {},
   "outputs": [],
   "source": [
    "X_train, X_test, y_train, y_test = split()"
   ]
  },
  {
   "cell_type": "code",
   "execution_count": 6,
   "metadata": {},
   "outputs": [],
   "source": [
    "X_train_sw, X_test_sw, y_train_sw, y_test_sw = split(stop_words=True)"
   ]
  },
  {
   "cell_type": "markdown",
   "metadata": {},
   "source": [
    "### Modeling"
   ]
  },
  {
   "cell_type": "markdown",
   "metadata": {},
   "source": [
    "Define parameter settings to try."
   ]
  },
  {
   "cell_type": "code",
   "execution_count": 7,
   "metadata": {},
   "outputs": [
    {
     "data": {
      "text/plain": [
       "array([1.e-02, 1.e-01, 1.e+00, 1.e+01, 1.e+02])"
      ]
     },
     "execution_count": 7,
     "metadata": {},
     "output_type": "execute_result"
    }
   ],
   "source": [
    "C_range = np.logspace(-2, 2, 5)\n",
    "C_range"
   ]
  },
  {
   "cell_type": "code",
   "execution_count": 8,
   "metadata": {},
   "outputs": [],
   "source": [
    "param_grid = {\"svc__C\": C_range}"
   ]
  },
  {
   "cell_type": "markdown",
   "metadata": {},
   "source": [
    "Create a function to create an instance of GridSearchCV."
   ]
  },
  {
   "cell_type": "code",
   "execution_count": 9,
   "metadata": {},
   "outputs": [],
   "source": [
    "def create_grid_search(ngram_range):\n",
    "  tfidf = TfidfVectorizer(ngram_range=ngram_range)\n",
    "  svc = LinearSVC(class_weight=\"balanced\", random_state=42, max_iter=10000)\n",
    "  pipe = Pipeline(steps=[(\"tfidf\", tfidf), (\"svc\", svc)])\n",
    "  \n",
    "  search = GridSearchCV(pipe, param_grid, cv=10, scoring=\"balanced_accuracy\", n_jobs=-1)\n",
    "  return search"
   ]
  },
  {
   "cell_type": "markdown",
   "metadata": {},
   "source": [
    "Create a function to perform training and evaluation."
   ]
  },
  {
   "cell_type": "code",
   "execution_count": 10,
   "metadata": {},
   "outputs": [],
   "source": [
    "def train_evaluate(ngram_range, X_train, X_test, y_train, y_test):\n",
    "  search = create_grid_search(ngram_range)\n",
    "  search.fit(X_train, y_train)\n",
    "\n",
    "  print(\"Best Parameters:\")\n",
    "  print(search.best_params_)\n",
    "\n",
    "  y_pred = search.predict(X_test)\n",
    "\n",
    "  print(\"Classification Report:\")\n",
    "  print(classification_report(y_test, y_pred))\n",
    "\n",
    "  print(\"Confusion Matrix:\")\n",
    "  ConfusionMatrixDisplay.from_predictions(y_test, y_pred)\n",
    "  plt.show()\n",
    "\n",
    "  return search"
   ]
  },
  {
   "cell_type": "markdown",
   "metadata": {},
   "source": [
    "#### Unigrams"
   ]
  },
  {
   "cell_type": "code",
<<<<<<< HEAD
   "execution_count": 16,
=======
   "execution_count": 11,
>>>>>>> 8c3a7f5b0651e02928b63bc1123858975f4d56bc
   "metadata": {},
   "outputs": [
    {
     "name": "stdout",
     "output_type": "stream",
     "text": [
      "Best Parameters:\n",
      "{'svc__C': 0.1}\n",
      "Classification Report:\n",
      "              precision    recall  f1-score   support\n",
      "\n",
      "    negative       0.86      0.88      0.87      1770\n",
      "     neutral       0.37      0.29      0.33       428\n",
      "    positive       0.93      0.95      0.94      4135\n",
      "\n",
      "    accuracy                           0.88      6333\n",
      "   macro avg       0.72      0.71      0.71      6333\n",
      "weighted avg       0.88      0.88      0.88      6333\n",
      "\n",
      "Confusion Matrix:\n"
     ]
    },
    {
     "ename": "AttributeError",
     "evalue": "type object 'ConfusionMatrixDisplay' has no attribute 'from_predictions'",
     "output_type": "error",
     "traceback": [
      "\u001b[1;31m---------------------------------------------------------------------------\u001b[0m",
      "\u001b[1;31mAttributeError\u001b[0m                            Traceback (most recent call last)",
      "\u001b[1;32m~\\AppData\\Local\\Temp/ipykernel_15368/2058772948.py\u001b[0m in \u001b[0;36m<module>\u001b[1;34m\u001b[0m\n\u001b[1;32m----> 1\u001b[1;33m \u001b[0mtrain_evaluate\u001b[0m\u001b[1;33m(\u001b[0m\u001b[0mX_train_uni\u001b[0m\u001b[1;33m,\u001b[0m \u001b[0mX_test_uni\u001b[0m\u001b[1;33m)\u001b[0m\u001b[1;33m\u001b[0m\u001b[1;33m\u001b[0m\u001b[0m\n\u001b[0m",
      "\u001b[1;32m~\\AppData\\Local\\Temp/ipykernel_15368/2788105376.py\u001b[0m in \u001b[0;36mtrain_evaluate\u001b[1;34m(X_train, X_test)\u001b[0m\n\u001b[0;32m      7\u001b[0m \u001b[1;33m\u001b[0m\u001b[0m\n\u001b[0;32m      8\u001b[0m   \u001b[0my_pred\u001b[0m \u001b[1;33m=\u001b[0m \u001b[0mgrid_search\u001b[0m\u001b[1;33m.\u001b[0m\u001b[0mpredict\u001b[0m\u001b[1;33m(\u001b[0m\u001b[0mX_test\u001b[0m\u001b[1;33m)\u001b[0m\u001b[1;33m\u001b[0m\u001b[1;33m\u001b[0m\u001b[0m\n\u001b[1;32m----> 9\u001b[1;33m   \u001b[0mevaluate\u001b[0m\u001b[1;33m(\u001b[0m\u001b[0my_pred\u001b[0m\u001b[1;33m)\u001b[0m\u001b[1;33m\u001b[0m\u001b[1;33m\u001b[0m\u001b[0m\n\u001b[0m",
      "\u001b[1;32m~\\Documents\\GitHub\\ml-group-project\\modeling\\utils\\metrics.py\u001b[0m in \u001b[0;36mevaluate\u001b[1;34m(y_pred)\u001b[0m\n\u001b[0;32m     16\u001b[0m \u001b[1;33m\u001b[0m\u001b[0m\n\u001b[0;32m     17\u001b[0m     \u001b[0mprint\u001b[0m\u001b[1;33m(\u001b[0m\u001b[1;34m\"Confusion Matrix:\"\u001b[0m\u001b[1;33m)\u001b[0m\u001b[1;33m\u001b[0m\u001b[1;33m\u001b[0m\u001b[0m\n\u001b[1;32m---> 18\u001b[1;33m     \u001b[0mConfusionMatrixDisplay\u001b[0m\u001b[1;33m.\u001b[0m\u001b[0mfrom_predictions\u001b[0m\u001b[1;33m(\u001b[0m\u001b[0my_test\u001b[0m\u001b[1;33m,\u001b[0m \u001b[0my_pred\u001b[0m\u001b[1;33m)\u001b[0m\u001b[1;33m\u001b[0m\u001b[1;33m\u001b[0m\u001b[0m\n\u001b[0m\u001b[0;32m     19\u001b[0m     \u001b[0mplt\u001b[0m\u001b[1;33m.\u001b[0m\u001b[0mshow\u001b[0m\u001b[1;33m(\u001b[0m\u001b[1;33m)\u001b[0m\u001b[1;33m\u001b[0m\u001b[1;33m\u001b[0m\u001b[0m\n\u001b[0;32m     20\u001b[0m \u001b[1;33m\u001b[0m\u001b[0m\n",
      "\u001b[1;31mAttributeError\u001b[0m: type object 'ConfusionMatrixDisplay' has no attribute 'from_predictions'"
     ]
    }
   ],
   "source": [
    "model_uni = train_evaluate((1, 1), X_train, X_test, y_train, y_test)"
   ]
  },
  {
   "cell_type": "markdown",
   "metadata": {
    "tags": []
   },
   "source": [
    "#### Unigrams + Stop Words"
   ]
  },
  {
   "cell_type": "code",
<<<<<<< HEAD
   "execution_count": 7,
=======
   "execution_count": 12,
>>>>>>> 8c3a7f5b0651e02928b63bc1123858975f4d56bc
   "metadata": {},
   "outputs": [
    {
     "name": "stdout",
     "output_type": "stream",
     "text": [
      "Best Parameters:\n",
      "{'svc__C': 0.1}\n",
      "Classification Report:\n",
      "              precision    recall  f1-score   support\n",
      "\n",
      "    negative       0.87      0.89      0.88      1770\n",
      "     neutral       0.42      0.37      0.39       428\n",
      "    positive       0.95      0.94      0.95      4135\n",
      "\n",
      "    accuracy                           0.89      6333\n",
      "   macro avg       0.74      0.74      0.74      6333\n",
      "weighted avg       0.89      0.89      0.89      6333\n",
      "\n",
      "Confusion Matrix:\n"
     ]
    },
    {
     "ename": "AttributeError",
     "evalue": "type object 'ConfusionMatrixDisplay' has no attribute 'from_predictions'",
     "output_type": "error",
     "traceback": [
      "\u001b[1;31m---------------------------------------------------------------------------\u001b[0m",
      "\u001b[1;31mAttributeError\u001b[0m                            Traceback (most recent call last)",
      "\u001b[1;32m~\\AppData\\Local\\Temp/ipykernel_14576/441788411.py\u001b[0m in \u001b[0;36m<module>\u001b[1;34m\u001b[0m\n\u001b[1;32m----> 1\u001b[1;33m \u001b[0mtrain_evaluate\u001b[0m\u001b[1;33m(\u001b[0m\u001b[0mX_train_uni_sw\u001b[0m\u001b[1;33m,\u001b[0m \u001b[0mX_test_uni_sw\u001b[0m\u001b[1;33m)\u001b[0m\u001b[1;33m\u001b[0m\u001b[1;33m\u001b[0m\u001b[0m\n\u001b[0m",
      "\u001b[1;32m~\\AppData\\Local\\Temp/ipykernel_14576/2788105376.py\u001b[0m in \u001b[0;36mtrain_evaluate\u001b[1;34m(X_train, X_test)\u001b[0m\n\u001b[0;32m      7\u001b[0m \u001b[1;33m\u001b[0m\u001b[0m\n\u001b[0;32m      8\u001b[0m   \u001b[0my_pred\u001b[0m \u001b[1;33m=\u001b[0m \u001b[0mgrid_search\u001b[0m\u001b[1;33m.\u001b[0m\u001b[0mpredict\u001b[0m\u001b[1;33m(\u001b[0m\u001b[0mX_test\u001b[0m\u001b[1;33m)\u001b[0m\u001b[1;33m\u001b[0m\u001b[1;33m\u001b[0m\u001b[0m\n\u001b[1;32m----> 9\u001b[1;33m   \u001b[0mevaluate\u001b[0m\u001b[1;33m(\u001b[0m\u001b[0my_pred\u001b[0m\u001b[1;33m)\u001b[0m\u001b[1;33m\u001b[0m\u001b[1;33m\u001b[0m\u001b[0m\n\u001b[0m",
      "\u001b[1;32m~\\Documents\\GitHub\\ml-group-project\\modeling\\utils\\metrics.py\u001b[0m in \u001b[0;36mevaluate\u001b[1;34m(y_pred)\u001b[0m\n\u001b[0;32m     16\u001b[0m \u001b[1;33m\u001b[0m\u001b[0m\n\u001b[0;32m     17\u001b[0m     \u001b[0mprint\u001b[0m\u001b[1;33m(\u001b[0m\u001b[1;34m\"Confusion Matrix:\"\u001b[0m\u001b[1;33m)\u001b[0m\u001b[1;33m\u001b[0m\u001b[1;33m\u001b[0m\u001b[0m\n\u001b[1;32m---> 18\u001b[1;33m     \u001b[0mConfusionMatrixDisplay\u001b[0m\u001b[1;33m.\u001b[0m\u001b[0mfrom_predictions\u001b[0m\u001b[1;33m(\u001b[0m\u001b[0my_test\u001b[0m\u001b[1;33m,\u001b[0m \u001b[0my_pred\u001b[0m\u001b[1;33m)\u001b[0m\u001b[1;33m\u001b[0m\u001b[1;33m\u001b[0m\u001b[0m\n\u001b[0m\u001b[0;32m     19\u001b[0m     \u001b[0mplt\u001b[0m\u001b[1;33m.\u001b[0m\u001b[0mshow\u001b[0m\u001b[1;33m(\u001b[0m\u001b[1;33m)\u001b[0m\u001b[1;33m\u001b[0m\u001b[1;33m\u001b[0m\u001b[0m\n\u001b[0;32m     20\u001b[0m \u001b[1;33m\u001b[0m\u001b[0m\n",
      "\u001b[1;31mAttributeError\u001b[0m: type object 'ConfusionMatrixDisplay' has no attribute 'from_predictions'"
     ]
    }
   ],
   "source": [
    "model_uni_sw = train_evaluate((1, 1), X_train_sw, X_test_sw, y_train_sw, y_test_sw)"
   ]
  },
  {
   "cell_type": "markdown",
   "metadata": {},
   "source": [
    "#### Bigrams"
   ]
  },
  {
   "cell_type": "code",
<<<<<<< HEAD
   "execution_count": null,
   "metadata": {},
   "outputs": [],
=======
   "execution_count": 13,
   "metadata": {},
   "outputs": [
    {
     "name": "stdout",
     "output_type": "stream",
     "text": [
      "Best Parameters:\n",
      "{'svc__C': 10.0}\n",
      "Classification Report:\n",
      "              precision    recall  f1-score   support\n",
      "\n",
      "    negative       0.86      0.75      0.80      1770\n",
      "     neutral       0.36      0.04      0.06       428\n",
      "    positive       0.85      0.98      0.91      4135\n",
      "\n",
      "    accuracy                           0.85      6333\n",
      "   macro avg       0.69      0.59      0.59      6333\n",
      "weighted avg       0.82      0.85      0.82      6333\n",
      "\n",
      "Confusion Matrix:\n"
     ]
    },
    {
     "data": {
      "image/png": "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",
      "text/plain": [
       "<Figure size 432x288 with 2 Axes>"
      ]
     },
     "metadata": {
      "needs_background": "light"
     },
     "output_type": "display_data"
    }
   ],
>>>>>>> 8c3a7f5b0651e02928b63bc1123858975f4d56bc
   "source": [
    "model_bi = train_evaluate((2, 2), X_train, X_test, y_train, y_test)"
   ]
  },
  {
   "cell_type": "markdown",
   "metadata": {},
   "source": [
    "#### Bigrams + Stop Words"
   ]
  },
  {
   "cell_type": "code",
<<<<<<< HEAD
   "execution_count": null,
   "metadata": {},
   "outputs": [],
=======
   "execution_count": 14,
   "metadata": {},
   "outputs": [
    {
     "name": "stdout",
     "output_type": "stream",
     "text": [
      "Best Parameters:\n",
      "{'svc__C': 0.1}\n",
      "Classification Report:\n",
      "              precision    recall  f1-score   support\n",
      "\n",
      "    negative       0.86      0.86      0.86      1770\n",
      "     neutral       0.45      0.19      0.27       428\n",
      "    positive       0.91      0.96      0.93      4135\n",
      "\n",
      "    accuracy                           0.88      6333\n",
      "   macro avg       0.74      0.67      0.69      6333\n",
      "weighted avg       0.86      0.88      0.87      6333\n",
      "\n",
      "Confusion Matrix:\n"
     ]
    },
    {
     "data": {
      "image/png": "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",
      "text/plain": [
       "<Figure size 432x288 with 2 Axes>"
      ]
     },
     "metadata": {
      "needs_background": "light"
     },
     "output_type": "display_data"
    }
   ],
>>>>>>> 8c3a7f5b0651e02928b63bc1123858975f4d56bc
   "source": [
    "model_bi_sw = train_evaluate((2, 2), X_train_sw, X_test_sw, y_train_sw, y_test_sw)"
   ]
  },
  {
   "cell_type": "markdown",
   "metadata": {},
   "source": [
    "#### Unigrams + Bigrams"
   ]
  },
  {
   "cell_type": "code",
<<<<<<< HEAD
   "execution_count": null,
   "metadata": {},
   "outputs": [],
=======
   "execution_count": 15,
   "metadata": {},
   "outputs": [
    {
     "name": "stdout",
     "output_type": "stream",
     "text": [
      "Best Parameters:\n",
      "{'svc__C': 0.1}\n",
      "Classification Report:\n",
      "              precision    recall  f1-score   support\n",
      "\n",
      "    negative       0.86      0.88      0.87      1770\n",
      "     neutral       0.43      0.24      0.31       428\n",
      "    positive       0.92      0.96      0.94      4135\n",
      "\n",
      "    accuracy                           0.89      6333\n",
      "   macro avg       0.74      0.69      0.71      6333\n",
      "weighted avg       0.87      0.89      0.88      6333\n",
      "\n",
      "Confusion Matrix:\n"
     ]
    },
    {
     "data": {
      "image/png": "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",
      "text/plain": [
       "<Figure size 432x288 with 2 Axes>"
      ]
     },
     "metadata": {
      "needs_background": "light"
     },
     "output_type": "display_data"
    }
   ],
>>>>>>> 8c3a7f5b0651e02928b63bc1123858975f4d56bc
   "source": [
    "model_uni_bi = train_evaluate((1, 2), X_train, X_test, y_train, y_test)"
   ]
  },
  {
   "cell_type": "markdown",
   "metadata": {},
   "source": [
    "#### Unigrams + Bigrams + Stop Words"
   ]
  },
  {
   "cell_type": "code",
<<<<<<< HEAD
   "execution_count": null,
   "metadata": {},
   "outputs": [],
=======
   "execution_count": 16,
   "metadata": {},
   "outputs": [
    {
     "name": "stdout",
     "output_type": "stream",
     "text": [
      "Best Parameters:\n",
      "{'svc__C': 0.1}\n",
      "Classification Report:\n",
      "              precision    recall  f1-score   support\n",
      "\n",
      "    negative       0.86      0.91      0.88      1770\n",
      "     neutral       0.43      0.27      0.33       428\n",
      "    positive       0.94      0.96      0.95      4135\n",
      "\n",
      "    accuracy                           0.90      6333\n",
      "   macro avg       0.74      0.71      0.72      6333\n",
      "weighted avg       0.88      0.90      0.89      6333\n",
      "\n",
      "Confusion Matrix:\n"
     ]
    },
    {
     "data": {
      "image/png": "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",
      "text/plain": [
       "<Figure size 432x288 with 2 Axes>"
      ]
     },
     "metadata": {
      "needs_background": "light"
     },
     "output_type": "display_data"
    }
   ],
>>>>>>> 8c3a7f5b0651e02928b63bc1123858975f4d56bc
   "source": [
    "model_uni_bi_sw = train_evaluate((1, 2), X_train_sw, X_test_sw, y_train_sw, y_test_sw)"
   ]
  },
  {
   "cell_type": "markdown",
   "metadata": {},
   "source": [
    "#### Sanity Check"
   ]
  },
  {
   "cell_type": "markdown",
   "metadata": {},
   "source": [
    "Positive review?"
   ]
  },
  {
   "cell_type": "code",
   "execution_count": 17,
   "metadata": {},
   "outputs": [
    {
     "data": {
      "text/plain": [
       "array(['positive'], dtype=object)"
      ]
     },
     "execution_count": 17,
     "metadata": {},
     "output_type": "execute_result"
    }
   ],
   "source": [
    "model_uni_bi_sw.predict([\"The food is great! Especially the unagi!\"])"
   ]
  },
  {
   "cell_type": "markdown",
   "metadata": {},
   "source": [
    "Negative review?"
   ]
  },
  {
   "cell_type": "code",
   "execution_count": 18,
   "metadata": {},
   "outputs": [
    {
     "data": {
      "text/plain": [
       "array(['negative'], dtype=object)"
      ]
     },
     "execution_count": 18,
     "metadata": {},
     "output_type": "execute_result"
    }
   ],
   "source": [
    "model_uni_bi_sw.predict([\"The service sucks! I will never come back again!\"])"
   ]
  },
  {
   "cell_type": "markdown",
   "metadata": {},
   "source": [
    "Neutral review?"
   ]
  },
  {
   "cell_type": "code",
   "execution_count": 19,
   "metadata": {},
   "outputs": [
    {
     "data": {
      "text/plain": [
       "array(['neutral'], dtype=object)"
      ]
     },
     "execution_count": 19,
     "metadata": {},
     "output_type": "execute_result"
    }
   ],
   "source": [
    "model_uni_bi_sw.predict([\"The food is decent but the price is a bit high.\"])"
   ]
  },
  {
   "cell_type": "markdown",
   "metadata": {},
   "source": [
    "Sarcastic review?"
   ]
  },
  {
   "cell_type": "code",
   "execution_count": 20,
   "metadata": {},
   "outputs": [
    {
     "data": {
      "text/plain": [
       "array(['positive'], dtype=object)"
      ]
     },
     "execution_count": 20,
     "metadata": {},
     "output_type": "execute_result"
    }
   ],
   "source": [
    "model_uni_bi_sw.predict([\"The food is so good that I think you need next level of taste buds to appreciate it.\"])"
   ]
  },
  {
   "cell_type": "markdown",
   "metadata": {},
   "source": [
    "Spam review?"
   ]
  },
  {
   "cell_type": "code",
   "execution_count": 22,
   "metadata": {},
   "outputs": [
    {
     "data": {
      "text/plain": [
       "array(['negative'], dtype=object)"
      ]
     },
     "execution_count": 22,
     "metadata": {},
     "output_type": "execute_result"
    }
   ],
   "source": [
    "model_uni_bi_sw.predict([\"Personal loan with low interest - call 0123456789.\"])"
   ]
  },
  {
   "cell_type": "code",
   "execution_count": 23,
   "metadata": {},
   "outputs": [
    {
     "data": {
      "text/plain": [
       "array(['positive'], dtype=object)"
      ]
     },
     "execution_count": 23,
     "metadata": {},
     "output_type": "execute_result"
    }
   ],
   "source": [
    "model_uni_bi_sw.predict([\"Personal loan with quick approval - call 0123456789.\"])"
   ]
  },
  {
   "cell_type": "markdown",
   "metadata": {},
   "source": [
    "Random text?"
   ]
  },
  {
   "cell_type": "code",
   "execution_count": 24,
   "metadata": {},
   "outputs": [
    {
     "data": {
      "text/plain": [
       "array(['positive'], dtype=object)"
      ]
     },
     "execution_count": 24,
     "metadata": {},
     "output_type": "execute_result"
    }
   ],
   "source": [
    "model_uni_bi_sw.predict([\"Market is bullish.\"])"
   ]
  },
  {
   "cell_type": "code",
   "execution_count": 25,
   "metadata": {},
   "outputs": [
    {
     "data": {
      "text/plain": [
       "array(['positive'], dtype=object)"
      ]
     },
     "execution_count": 25,
     "metadata": {},
     "output_type": "execute_result"
    }
   ],
   "source": [
    "model_uni_bi_sw.predict([\"Market is bullish. Forgot what's the next part of the sentence already.\"])"
   ]
  },
  {
   "cell_type": "markdown",
   "metadata": {},
   "source": [
    "Emoji?"
   ]
  },
  {
   "cell_type": "code",
   "execution_count": 26,
   "metadata": {},
   "outputs": [
    {
     "data": {
      "text/plain": [
       "array(['positive'], dtype=object)"
      ]
     },
     "execution_count": 26,
     "metadata": {},
     "output_type": "execute_result"
    }
   ],
   "source": [
    "model_uni_bi_sw.predict([\"🙂🙂🙂\"])"
   ]
  },
  {
   "cell_type": "code",
   "execution_count": 27,
   "metadata": {},
   "outputs": [
    {
     "data": {
      "text/plain": [
       "array(['positive'], dtype=object)"
      ]
     },
     "execution_count": 27,
     "metadata": {},
     "output_type": "execute_result"
    }
   ],
   "source": [
    "model_uni_bi_sw.predict([\"🤬🤬🤬\"])"
   ]
  }
 ],
 "metadata": {
  "interpreter": {
   "hash": "755c9835afe6b3c752991f2e0bee94041b633b03b770e3a9a9f3b624e618007c"
  },
  "kernelspec": {
   "display_name": "Python 3 (ipykernel)",
   "language": "python",
   "name": "python3"
  },
  "language_info": {
   "codemirror_mode": {
    "name": "ipython",
    "version": 3
   },
   "file_extension": ".py",
   "mimetype": "text/x-python",
   "name": "python",
   "nbconvert_exporter": "python",
   "pygments_lexer": "ipython3",
   "version": "3.9.7"
  }
 },
 "nbformat": 4,
 "nbformat_minor": 4
}
