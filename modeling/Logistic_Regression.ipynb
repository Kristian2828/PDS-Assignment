{
 "cells": [
  {
   "cell_type": "markdown",
   "id": "b2481222",
   "metadata": {},
   "source": [
    "### Imports"
   ]
  },
  {
   "cell_type": "code",
   "execution_count": 57,
   "id": "11b50c3b",
   "metadata": {},
   "outputs": [],
   "source": [
    "import numpy as np\n",
    "import pandas as pd\n",
    "import matplotlib.pyplot as plt\n",
    "from sklearn.model_selection import GridSearchCV, train_test_split\n",
    "from sklearn.linear_model import LogisticRegression\n",
    "from sklearn.metrics import ConfusionMatrixDisplay\n",
    "from sklearn.metrics import plot_confusion_matrix\n",
    "from utils.data import load_file\n",
    "from utils.metrics import evaluate\n",
    "import warnings \n",
    "warnings.filterwarnings('ignore')\n",
    "target_names = ['first_value_y','second_value_y']"
   ]
  },
  {
   "cell_type": "markdown",
   "id": "6563ec96",
   "metadata": {},
   "source": [
    "### Load Data"
   ]
  },
  {
   "cell_type": "code",
   "execution_count": 58,
   "id": "9264aa39",
   "metadata": {},
   "outputs": [
    {
     "data": {
      "text/html": [
       "<div>\n",
       "<style scoped>\n",
       "    .dataframe tbody tr th:only-of-type {\n",
       "        vertical-align: middle;\n",
       "    }\n",
       "\n",
       "    .dataframe tbody tr th {\n",
       "        vertical-align: top;\n",
       "    }\n",
       "\n",
       "    .dataframe thead th {\n",
       "        text-align: right;\n",
       "    }\n",
       "</style>\n",
       "<table border=\"1\" class=\"dataframe\">\n",
       "  <thead>\n",
       "    <tr style=\"text-align: right;\">\n",
       "      <th></th>\n",
       "      <th>text</th>\n",
       "      <th>label</th>\n",
       "    </tr>\n",
       "  </thead>\n",
       "  <tbody>\n",
       "    <tr>\n",
       "      <th>0</th>\n",
       "      <td>bought fender telecaster salesperson told orig...</td>\n",
       "      <td>negative</td>\n",
       "    </tr>\n",
       "    <tr>\n",
       "      <th>1</th>\n",
       "      <td>visit son restaurant desert home food authenti...</td>\n",
       "      <td>positive</td>\n",
       "    </tr>\n",
       "    <tr>\n",
       "      <th>2</th>\n",
       "      <td>danielle great job listened cut hair way reque...</td>\n",
       "      <td>positive</td>\n",
       "    </tr>\n",
       "    <tr>\n",
       "      <th>3</th>\n",
       "      <td>saw lot roaches bathroom woke bed large dark s...</td>\n",
       "      <td>negative</td>\n",
       "    </tr>\n",
       "    <tr>\n",
       "      <th>4</th>\n",
       "      <td>ordered pork fried rice beef chow mei fun teri...</td>\n",
       "      <td>negative</td>\n",
       "    </tr>\n",
       "  </tbody>\n",
       "</table>\n",
       "</div>"
      ],
      "text/plain": [
       "                                                text     label\n",
       "0  bought fender telecaster salesperson told orig...  negative\n",
       "1  visit son restaurant desert home food authenti...  positive\n",
       "2  danielle great job listened cut hair way reque...  positive\n",
       "3  saw lot roaches bathroom woke bed large dark s...  negative\n",
       "4  ordered pork fried rice beef chow mei fun teri...  negative"
      ]
     },
     "execution_count": 58,
     "metadata": {},
     "output_type": "execute_result"
    }
   ],
   "source": [
    "df = pd.read_csv(\"../data/review_2022_clean.csv\")\n",
    "df.head()"
   ]
  },
  {
   "cell_type": "code",
   "execution_count": 59,
   "id": "5b9723f3",
   "metadata": {},
   "outputs": [
    {
     "data": {
      "text/html": [
       "<div>\n",
       "<style scoped>\n",
       "    .dataframe tbody tr th:only-of-type {\n",
       "        vertical-align: middle;\n",
       "    }\n",
       "\n",
       "    .dataframe tbody tr th {\n",
       "        vertical-align: top;\n",
       "    }\n",
       "\n",
       "    .dataframe thead th {\n",
       "        text-align: right;\n",
       "    }\n",
       "</style>\n",
       "<table border=\"1\" class=\"dataframe\">\n",
       "  <thead>\n",
       "    <tr style=\"text-align: right;\">\n",
       "      <th></th>\n",
       "      <th>text</th>\n",
       "      <th>label</th>\n",
       "    </tr>\n",
       "  </thead>\n",
       "  <tbody>\n",
       "    <tr>\n",
       "      <th>0</th>\n",
       "      <td>i bought a fender telecaster that the salesper...</td>\n",
       "      <td>negative</td>\n",
       "    </tr>\n",
       "    <tr>\n",
       "      <th>1</th>\n",
       "      <td>this is our go to for take out when i visit my...</td>\n",
       "      <td>positive</td>\n",
       "    </tr>\n",
       "    <tr>\n",
       "      <th>2</th>\n",
       "      <td>danielle did a great job she listened and cut ...</td>\n",
       "      <td>positive</td>\n",
       "    </tr>\n",
       "    <tr>\n",
       "      <th>3</th>\n",
       "      <td>we saw a lot of roaches in the bathroom when w...</td>\n",
       "      <td>negative</td>\n",
       "    </tr>\n",
       "    <tr>\n",
       "      <th>4</th>\n",
       "      <td>we ordered pork fried rice and beef chow mei f...</td>\n",
       "      <td>negative</td>\n",
       "    </tr>\n",
       "  </tbody>\n",
       "</table>\n",
       "</div>"
      ],
      "text/plain": [
       "                                                text     label\n",
       "0  i bought a fender telecaster that the salesper...  negative\n",
       "1  this is our go to for take out when i visit my...  positive\n",
       "2  danielle did a great job she listened and cut ...  positive\n",
       "3  we saw a lot of roaches in the bathroom when w...  negative\n",
       "4  we ordered pork fried rice and beef chow mei f...  negative"
      ]
     },
     "execution_count": 59,
     "metadata": {},
     "output_type": "execute_result"
    }
   ],
   "source": [
    "df_sw = pd.read_csv(\"../data/review_2022_clean_sw.csv\")\n",
    "df_sw.head()"
   ]
  },
  {
   "cell_type": "markdown",
   "id": "ffcdd16f",
   "metadata": {},
   "source": [
    "### Train-Test Split"
   ]
  },
  {
   "cell_type": "markdown",
   "id": "afd48624",
   "metadata": {},
   "source": [
    "Create a function to perform train-test split."
   ]
  },
  {
   "cell_type": "code",
   "execution_count": 60,
   "id": "6c134a7c",
   "metadata": {},
   "outputs": [],
   "source": [
    "def split(stop_words=False):\n",
    "  if stop_words:\n",
    "    X = df_sw[\"text\"]\n",
    "    y = df_sw[\"label\"]\n",
    "  else:\n",
    "    X = df[\"text\"]\n",
    "    y = df[\"label\"]\n",
    "  return train_test_split(X, y, test_size=0.2, random_state=42)"
   ]
  },
  {
   "cell_type": "code",
   "execution_count": 61,
   "id": "35837736",
   "metadata": {},
   "outputs": [],
   "source": [
    "X_train, X_test, y_train, y_test = split()"
   ]
  },
  {
   "cell_type": "code",
   "execution_count": 62,
   "id": "a03c036c",
   "metadata": {},
   "outputs": [],
   "source": [
    "X_train_sw, X_test_sw, y_train_sw, y_test_sw = split(stop_words=True)"
   ]
  },
  {
   "cell_type": "code",
   "execution_count": 63,
   "id": "f88ccf7c",
   "metadata": {},
   "outputs": [],
   "source": [
    "y_train = load_file(\"y_train.pickle\")\n",
    "\n",
    "X_train_uni = load_file(\"X_train_uni.pickle\")\n",
    "X_test_uni = load_file(\"X_test_uni.pickle\")\n",
    "\n",
    "X_train_uni_sw = load_file(\"X_train_uni_sw.pickle\")\n",
    "X_test_uni_sw = load_file(\"X_test_uni_sw.pickle\")\n",
    "\n",
    "X_train_bi = load_file(\"X_train_bi.pickle\")\n",
    "X_test_bi = load_file(\"X_test_bi.pickle\")\n",
    "\n",
    "X_train_bi_sw = load_file(\"X_train_bi_sw.pickle\")\n",
    "X_test_bi_sw = load_file(\"X_test_bi_sw.pickle\")\n",
    "\n",
    "X_train_uni_bi = load_file(\"X_train_uni_bi.pickle\")\n",
    "X_test_uni_bi = load_file(\"X_test_uni_bi.pickle\")\n",
    "\n",
    "X_train_uni_bi_sw = load_file(\"X_train_uni_bi_sw.pickle\")\n",
    "X_test_uni_bi_sw = load_file(\"X_test_uni_bi_sw.pickle\")"
   ]
  },
  {
   "cell_type": "markdown",
   "id": "97b348c8",
   "metadata": {},
   "source": [
    "### Modeling"
   ]
  },
  {
   "cell_type": "markdown",
   "id": "b594d932",
   "metadata": {},
   "source": [
    "Define parameter settings to try"
   ]
  },
  {
   "cell_type": "code",
   "execution_count": 64,
   "id": "83ba9799",
   "metadata": {},
   "outputs": [],
   "source": [
    "param_grid = {\n",
    "    'C'       : np.logspace(-2, 2, 5),\n",
    "    #'penalty' : ['l1','l2'],\n",
    "    #'solver'  : ['newton-cg', 'lbfgs', 'liblinear'],\n",
    "}"
   ]
  },
  {
   "cell_type": "markdown",
   "id": "6e1ac3ed",
   "metadata": {},
   "source": [
    "Create a function to create a new instance of grid search with 10-fold cross-validation."
   ]
  },
  {
   "cell_type": "code",
   "execution_count": 65,
   "id": "e3456cf4",
   "metadata": {},
   "outputs": [],
   "source": [
    "def create_grid_search():\n",
    "  model = LogisticRegression(class_weight=\"balanced\", random_state=42, max_iter=10000)\n",
    "  grid_search = GridSearchCV(model,                                          # model\n",
    "                             param_grid=param_grid,                          # hyperparameters\n",
    "                             cv=10,                                          # number of folds\n",
    "                             scoring=\"balanced_accuracy\")                    # metric for scoring\n",
    "  return grid_search"
   ]
  },
  {
   "cell_type": "code",
   "execution_count": 66,
   "id": "2115ed0c",
   "metadata": {},
   "outputs": [],
   "source": [
    "def train_evaluate(X_train, X_test):\n",
    "  grid_search = create_grid_search()\n",
    "  grid_search.fit(X_train, y_train)\n",
    "  \n",
    "  print(\"Best Parameters:\")\n",
    "  print(grid_search.best_params_)\n",
    "\n",
    "  y_pred = grid_search.predict(X_test)\n",
    "  evaluate(y_pred)"
   ]
  },
  {
   "cell_type": "markdown",
   "id": "198544a3",
   "metadata": {},
   "source": [
    "#### Unigrams"
   ]
  },
  {
   "cell_type": "code",
   "execution_count": 41,
   "id": "3c8727e0",
   "metadata": {},
   "outputs": [
    {
     "name": "stdout",
     "output_type": "stream",
     "text": [
      "Best Parameters:\n",
      "{'C': 0.1, 'penalty': 'l2', 'solver': 'lbfgs'}\n",
      "Classification Report:\n",
      "              precision    recall  f1-score   support\n",
      "\n",
      "    negative       0.83      0.84      0.83      1770\n",
      "     neutral       0.27      0.60      0.38       428\n",
      "    positive       0.96      0.84      0.90      4135\n",
      "\n",
      "    accuracy                           0.82      6333\n",
      "   macro avg       0.69      0.76      0.70      6333\n",
      "weighted avg       0.88      0.82      0.85      6333\n",
      "\n",
      "Confusion Matrix:\n"
     ]
    },
    {
     "data": {
      "image/png": "[encoded data removed]",
      "text/plain": [
       "<Figure size 432x288 with 2 Axes>"
      ]
     },
     "metadata": {
      "needs_background": "light"
     },
     "output_type": "display_data"
    }
   ],
   "source": [
    "train_evaluate(X_train_uni, X_test_uni)"
   ]
  },
  {
   "cell_type": "markdown",
   "id": "f85e52dc",
   "metadata": {},
   "source": [
    "#### Unigrams + Stop Words"
   ]
  },
  {
   "cell_type": "code",
   "execution_count": 42,
   "id": "e1a04987",
   "metadata": {},
   "outputs": [
    {
     "name": "stdout",
     "output_type": "stream",
     "text": [
      "Best Parameters:\n",
      "{'C': 1.0, 'penalty': 'l2', 'solver': 'lbfgs'}\n",
      "Classification Report:\n",
      "              precision    recall  f1-score   support\n",
      "\n",
      "    negative       0.87      0.87      0.87      1770\n",
      "     neutral       0.32      0.58      0.42       428\n",
      "    positive       0.97      0.89      0.93      4135\n",
      "\n",
      "    accuracy                           0.86      6333\n",
      "   macro avg       0.72      0.78      0.74      6333\n",
      "weighted avg       0.90      0.86      0.88      6333\n",
      "\n",
      "Confusion Matrix:\n"
     ]
    },
    {
     "data": {
      "image/png": "[encoded data removed]",
      "text/plain": [
       "<Figure size 432x288 with 2 Axes>"
      ]
     },
     "metadata": {
      "needs_background": "light"
     },
     "output_type": "display_data"
    }
   ],
   "source": [
    "train_evaluate(X_train_uni_sw, X_test_uni_sw)"
   ]
  },
  {
   "cell_type": "markdown",
   "id": "76fa82e3",
   "metadata": {},
   "source": [
    "#### Bigrams"
   ]
  },
  {
   "cell_type": "code",
   "execution_count": 47,
   "id": "73d3cf7a",
   "metadata": {},
   "outputs": [
    {
     "name": "stdout",
     "output_type": "stream",
     "text": [
      "Best Parameters:\n",
      "{'C': 0.01}\n",
      "Classification Report:\n",
      "              precision    recall  f1-score   support\n",
      "\n",
      "    negative       0.69      0.85      0.76      1770\n",
      "     neutral       0.27      0.29      0.28       428\n",
      "    positive       0.91      0.81      0.86      4135\n",
      "\n",
      "    accuracy                           0.79      6333\n",
      "   macro avg       0.62      0.65      0.63      6333\n",
      "weighted avg       0.81      0.79      0.79      6333\n",
      "\n",
      "Confusion Matrix:\n"
     ]
    },
    {
     "data": {
      "image/png": "[encoded data removed]",
      "text/plain": [
       "<Figure size 432x288 with 2 Axes>"
      ]
     },
     "metadata": {
      "needs_background": "light"
     },
     "output_type": "display_data"
    }
   ],
   "source": [
    "train_evaluate(X_train_bi, X_test_bi)"
   ]
  },
  {
   "cell_type": "markdown",
   "id": "fde8c978",
   "metadata": {},
   "source": [
    "#### Bigrams + Stop Words"
   ]
  },
  {
   "cell_type": "code",
   "execution_count": 48,
   "id": "ae33cd72",
   "metadata": {},
   "outputs": [
    {
     "name": "stdout",
     "output_type": "stream",
     "text": [
      "Best Parameters:\n",
      "{'C': 0.1}\n",
      "Classification Report:\n",
      "              precision    recall  f1-score   support\n",
      "\n",
      "    negative       0.80      0.81      0.81      1770\n",
      "     neutral       0.29      0.54      0.38       428\n",
      "    positive       0.95      0.85      0.90      4135\n",
      "\n",
      "    accuracy                           0.82      6333\n",
      "   macro avg       0.68      0.74      0.69      6333\n",
      "weighted avg       0.86      0.82      0.84      6333\n",
      "\n",
      "Confusion Matrix:\n"
     ]
    },
    {
     "data": {
      "image/png": "[encoded data removed]",
      "text/plain": [
       "<Figure size 432x288 with 2 Axes>"
      ]
     },
     "metadata": {
      "needs_background": "light"
     },
     "output_type": "display_data"
    }
   ],
   "source": [
    "train_evaluate(X_train_bi_sw, X_test_bi_sw)"
   ]
  },
  {
   "cell_type": "markdown",
   "id": "486a129d",
   "metadata": {},
   "source": [
    "#### Unigrams + Bigrams"
   ]
  },
  {
   "cell_type": "code",
   "execution_count": 49,
   "id": "598f0bf4",
   "metadata": {},
   "outputs": [
    {
     "name": "stdout",
     "output_type": "stream",
     "text": [
      "Best Parameters:\n",
      "{'C': 0.1}\n",
      "Classification Report:\n",
      "              precision    recall  f1-score   support\n",
      "\n",
      "    negative       0.82      0.82      0.82      1770\n",
      "     neutral       0.26      0.60      0.37       428\n",
      "    positive       0.96      0.83      0.89      4135\n",
      "\n",
      "    accuracy                           0.81      6333\n",
      "   macro avg       0.68      0.75      0.69      6333\n",
      "weighted avg       0.87      0.81      0.83      6333\n",
      "\n",
      "Confusion Matrix:\n"
     ]
    },
    {
     "data": {
      "image/png": "[encoded data removed]",
      "text/plain": [
       "<Figure size 432x288 with 2 Axes>"
      ]
     },
     "metadata": {
      "needs_background": "light"
     },
     "output_type": "display_data"
    }
   ],
   "source": [
    "train_evaluate(X_train_uni_bi, X_test_uni_bi)"
   ]
  },
  {
   "cell_type": "markdown",
   "id": "1cfb0f28",
   "metadata": {},
   "source": [
    "#### Unigrams + Bigrams + Stop Words"
   ]
  },
  {
   "cell_type": "code",
   "execution_count": 50,
   "id": "425927ec",
   "metadata": {},
   "outputs": [
    {
     "name": "stdout",
     "output_type": "stream",
     "text": [
      "Best Parameters:\n",
      "{'C': 1.0}\n",
      "Classification Report:\n",
      "              precision    recall  f1-score   support\n",
      "\n",
      "    negative       0.86      0.89      0.88      1770\n",
      "     neutral       0.38      0.51      0.44       428\n",
      "    positive       0.97      0.92      0.94      4135\n",
      "\n",
      "    accuracy                           0.88      6333\n",
      "   macro avg       0.74      0.77      0.75      6333\n",
      "weighted avg       0.90      0.88      0.89      6333\n",
      "\n",
      "Confusion Matrix:\n"
     ]
    },
    {
     "data": {
      "image/png": "[encoded data removed]",
      "text/plain": [
       "<Figure size 432x288 with 2 Axes>"
      ]
     },
     "metadata": {
      "needs_background": "light"
     },
     "output_type": "display_data"
    }
   ],
   "source": [
    "train_evaluate(X_train_uni_bi_sw, X_test_uni_bi_sw)"
   ]
  },
  {
   "cell_type": "markdown",
   "id": "12d9b4f9",
   "metadata": {},
   "source": [
    "#### Sanity Check"
   ]
  },
  {
   "cell_type": "markdown",
   "id": "54a2be01",
   "metadata": {},
   "source": [
    "Positive review?"
   ]
  },
  {
   "cell_type": "code",
   "execution_count": 73,
   "id": "8ec1947d",
   "metadata": {},
   "outputs": [
    {
     "ename": "MemoryError",
     "evalue": "Unable to allocate 25.1 MiB for an array with shape (3292513,) and data type float64",
     "output_type": "error",
     "traceback": [
      "\u001b[1;31m---------------------------------------------------------------------------\u001b[0m",
      "\u001b[1;31mMemoryError\u001b[0m                               Traceback (most recent call last)",
      "\u001b[1;32mc:\\Users\\krisu\\Documents\\GitHub\\ml-group-project\\modeling\\Untitled.ipynb Cell 32'\u001b[0m in \u001b[0;36m<cell line: 1>\u001b[1;34m()\u001b[0m\n\u001b[1;32m----> <a href='vscode-notebook-cell:/c%3A/Users/krisu/Documents/GitHub/ml-group-project/modeling/Untitled.ipynb#ch0000031?line=0'>1</a>\u001b[0m model_uni_bi_sw \u001b[39m=\u001b[39m train_evaluate(X_train_uni_bi_sw, X_test_uni_bi_sw)\n",
      "\u001b[1;32mc:\\Users\\krisu\\Documents\\GitHub\\ml-group-project\\modeling\\Untitled.ipynb Cell 17'\u001b[0m in \u001b[0;36mtrain_evaluate\u001b[1;34m(X_train, X_test)\u001b[0m\n\u001b[0;32m      <a href='vscode-notebook-cell:/c%3A/Users/krisu/Documents/GitHub/ml-group-project/modeling/Untitled.ipynb#ch0000016?line=0'>1</a>\u001b[0m \u001b[39mdef\u001b[39;00m \u001b[39mtrain_evaluate\u001b[39m(X_train, X_test):\n\u001b[0;32m      <a href='vscode-notebook-cell:/c%3A/Users/krisu/Documents/GitHub/ml-group-project/modeling/Untitled.ipynb#ch0000016?line=1'>2</a>\u001b[0m   grid_search \u001b[39m=\u001b[39m create_grid_search()\n\u001b[1;32m----> <a href='vscode-notebook-cell:/c%3A/Users/krisu/Documents/GitHub/ml-group-project/modeling/Untitled.ipynb#ch0000016?line=2'>3</a>\u001b[0m   grid_search\u001b[39m.\u001b[39;49mfit(X_train, y_train)\n\u001b[0;32m      <a href='vscode-notebook-cell:/c%3A/Users/krisu/Documents/GitHub/ml-group-project/modeling/Untitled.ipynb#ch0000016?line=4'>5</a>\u001b[0m   \u001b[39mprint\u001b[39m(\u001b[39m\"\u001b[39m\u001b[39mBest Parameters:\u001b[39m\u001b[39m\"\u001b[39m)\n\u001b[0;32m      <a href='vscode-notebook-cell:/c%3A/Users/krisu/Documents/GitHub/ml-group-project/modeling/Untitled.ipynb#ch0000016?line=5'>6</a>\u001b[0m   \u001b[39mprint\u001b[39m(grid_search\u001b[39m.\u001b[39mbest_params_)\n",
      "File \u001b[1;32mc:\\Users\\krisu\\anaconda3\\envs\\sklearn-env\\lib\\site-packages\\sklearn\\model_selection\\_search.py:891\u001b[0m, in \u001b[0;36mBaseSearchCV.fit\u001b[1;34m(self, X, y, groups, **fit_params)\u001b[0m\n\u001b[0;32m    <a href='file:///c%3A/Users/krisu/anaconda3/envs/sklearn-env/lib/site-packages/sklearn/model_selection/_search.py?line=884'>885</a>\u001b[0m     results \u001b[39m=\u001b[39m \u001b[39mself\u001b[39m\u001b[39m.\u001b[39m_format_results(\n\u001b[0;32m    <a href='file:///c%3A/Users/krisu/anaconda3/envs/sklearn-env/lib/site-packages/sklearn/model_selection/_search.py?line=885'>886</a>\u001b[0m         all_candidate_params, n_splits, all_out, all_more_results\n\u001b[0;32m    <a href='file:///c%3A/Users/krisu/anaconda3/envs/sklearn-env/lib/site-packages/sklearn/model_selection/_search.py?line=886'>887</a>\u001b[0m     )\n\u001b[0;32m    <a href='file:///c%3A/Users/krisu/anaconda3/envs/sklearn-env/lib/site-packages/sklearn/model_selection/_search.py?line=888'>889</a>\u001b[0m     \u001b[39mreturn\u001b[39;00m results\n\u001b[1;32m--> <a href='file:///c%3A/Users/krisu/anaconda3/envs/sklearn-env/lib/site-packages/sklearn/model_selection/_search.py?line=890'>891</a>\u001b[0m \u001b[39mself\u001b[39;49m\u001b[39m.\u001b[39;49m_run_search(evaluate_candidates)\n\u001b[0;32m    <a href='file:///c%3A/Users/krisu/anaconda3/envs/sklearn-env/lib/site-packages/sklearn/model_selection/_search.py?line=892'>893</a>\u001b[0m \u001b[39m# multimetric is determined here because in the case of a callable\u001b[39;00m\n\u001b[0;32m    <a href='file:///c%3A/Users/krisu/anaconda3/envs/sklearn-env/lib/site-packages/sklearn/model_selection/_search.py?line=893'>894</a>\u001b[0m \u001b[39m# self.scoring the return type is only known after calling\u001b[39;00m\n\u001b[0;32m    <a href='file:///c%3A/Users/krisu/anaconda3/envs/sklearn-env/lib/site-packages/sklearn/model_selection/_search.py?line=894'>895</a>\u001b[0m first_test_score \u001b[39m=\u001b[39m all_out[\u001b[39m0\u001b[39m][\u001b[39m\"\u001b[39m\u001b[39mtest_scores\u001b[39m\u001b[39m\"\u001b[39m]\n",
      "File \u001b[1;32mc:\\Users\\krisu\\anaconda3\\envs\\sklearn-env\\lib\\site-packages\\sklearn\\model_selection\\_search.py:1392\u001b[0m, in \u001b[0;36mGridSearchCV._run_search\u001b[1;34m(self, evaluate_candidates)\u001b[0m\n\u001b[0;32m   <a href='file:///c%3A/Users/krisu/anaconda3/envs/sklearn-env/lib/site-packages/sklearn/model_selection/_search.py?line=1389'>1390</a>\u001b[0m \u001b[39mdef\u001b[39;00m \u001b[39m_run_search\u001b[39m(\u001b[39mself\u001b[39m, evaluate_candidates):\n\u001b[0;32m   <a href='file:///c%3A/Users/krisu/anaconda3/envs/sklearn-env/lib/site-packages/sklearn/model_selection/_search.py?line=1390'>1391</a>\u001b[0m     \u001b[39m\"\"\"Search all candidates in param_grid\"\"\"\u001b[39;00m\n\u001b[1;32m-> <a href='file:///c%3A/Users/krisu/anaconda3/envs/sklearn-env/lib/site-packages/sklearn/model_selection/_search.py?line=1391'>1392</a>\u001b[0m     evaluate_candidates(ParameterGrid(\u001b[39mself\u001b[39;49m\u001b[39m.\u001b[39;49mparam_grid))\n",
      "File \u001b[1;32mc:\\Users\\krisu\\anaconda3\\envs\\sklearn-env\\lib\\site-packages\\sklearn\\model_selection\\_search.py:838\u001b[0m, in \u001b[0;36mBaseSearchCV.fit.<locals>.evaluate_candidates\u001b[1;34m(candidate_params, cv, more_results)\u001b[0m\n\u001b[0;32m    <a href='file:///c%3A/Users/krisu/anaconda3/envs/sklearn-env/lib/site-packages/sklearn/model_selection/_search.py?line=829'>830</a>\u001b[0m \u001b[39mif\u001b[39;00m \u001b[39mself\u001b[39m\u001b[39m.\u001b[39mverbose \u001b[39m>\u001b[39m \u001b[39m0\u001b[39m:\n\u001b[0;32m    <a href='file:///c%3A/Users/krisu/anaconda3/envs/sklearn-env/lib/site-packages/sklearn/model_selection/_search.py?line=830'>831</a>\u001b[0m     \u001b[39mprint\u001b[39m(\n\u001b[0;32m    <a href='file:///c%3A/Users/krisu/anaconda3/envs/sklearn-env/lib/site-packages/sklearn/model_selection/_search.py?line=831'>832</a>\u001b[0m         \u001b[39m\"\u001b[39m\u001b[39mFitting \u001b[39m\u001b[39m{0}\u001b[39;00m\u001b[39m folds for each of \u001b[39m\u001b[39m{1}\u001b[39;00m\u001b[39m candidates,\u001b[39m\u001b[39m\"\u001b[39m\n\u001b[0;32m    <a href='file:///c%3A/Users/krisu/anaconda3/envs/sklearn-env/lib/site-packages/sklearn/model_selection/_search.py?line=832'>833</a>\u001b[0m         \u001b[39m\"\u001b[39m\u001b[39m totalling \u001b[39m\u001b[39m{2}\u001b[39;00m\u001b[39m fits\u001b[39m\u001b[39m\"\u001b[39m\u001b[39m.\u001b[39mformat(\n\u001b[0;32m    <a href='file:///c%3A/Users/krisu/anaconda3/envs/sklearn-env/lib/site-packages/sklearn/model_selection/_search.py?line=833'>834</a>\u001b[0m             n_splits, n_candidates, n_candidates \u001b[39m*\u001b[39m n_splits\n\u001b[0;32m    <a href='file:///c%3A/Users/krisu/anaconda3/envs/sklearn-env/lib/site-packages/sklearn/model_selection/_search.py?line=834'>835</a>\u001b[0m         )\n\u001b[0;32m    <a href='file:///c%3A/Users/krisu/anaconda3/envs/sklearn-env/lib/site-packages/sklearn/model_selection/_search.py?line=835'>836</a>\u001b[0m     )\n\u001b[1;32m--> <a href='file:///c%3A/Users/krisu/anaconda3/envs/sklearn-env/lib/site-packages/sklearn/model_selection/_search.py?line=837'>838</a>\u001b[0m out \u001b[39m=\u001b[39m parallel(\n\u001b[0;32m    <a href='file:///c%3A/Users/krisu/anaconda3/envs/sklearn-env/lib/site-packages/sklearn/model_selection/_search.py?line=838'>839</a>\u001b[0m     delayed(_fit_and_score)(\n\u001b[0;32m    <a href='file:///c%3A/Users/krisu/anaconda3/envs/sklearn-env/lib/site-packages/sklearn/model_selection/_search.py?line=839'>840</a>\u001b[0m         clone(base_estimator),\n\u001b[0;32m    <a href='file:///c%3A/Users/krisu/anaconda3/envs/sklearn-env/lib/site-packages/sklearn/model_selection/_search.py?line=840'>841</a>\u001b[0m         X,\n\u001b[0;32m    <a href='file:///c%3A/Users/krisu/anaconda3/envs/sklearn-env/lib/site-packages/sklearn/model_selection/_search.py?line=841'>842</a>\u001b[0m         y,\n\u001b[0;32m    <a href='file:///c%3A/Users/krisu/anaconda3/envs/sklearn-env/lib/site-packages/sklearn/model_selection/_search.py?line=842'>843</a>\u001b[0m         train\u001b[39m=\u001b[39;49mtrain,\n\u001b[0;32m    <a href='file:///c%3A/Users/krisu/anaconda3/envs/sklearn-env/lib/site-packages/sklearn/model_selection/_search.py?line=843'>844</a>\u001b[0m         test\u001b[39m=\u001b[39;49mtest,\n\u001b[0;32m    <a href='file:///c%3A/Users/krisu/anaconda3/envs/sklearn-env/lib/site-packages/sklearn/model_selection/_search.py?line=844'>845</a>\u001b[0m         parameters\u001b[39m=\u001b[39;49mparameters,\n\u001b[0;32m    <a href='file:///c%3A/Users/krisu/anaconda3/envs/sklearn-env/lib/site-packages/sklearn/model_selection/_search.py?line=845'>846</a>\u001b[0m         split_progress\u001b[39m=\u001b[39;49m(split_idx, n_splits),\n\u001b[0;32m    <a href='file:///c%3A/Users/krisu/anaconda3/envs/sklearn-env/lib/site-packages/sklearn/model_selection/_search.py?line=846'>847</a>\u001b[0m         candidate_progress\u001b[39m=\u001b[39;49m(cand_idx, n_candidates),\n\u001b[0;32m    <a href='file:///c%3A/Users/krisu/anaconda3/envs/sklearn-env/lib/site-packages/sklearn/model_selection/_search.py?line=847'>848</a>\u001b[0m         \u001b[39m*\u001b[39;49m\u001b[39m*\u001b[39;49mfit_and_score_kwargs,\n\u001b[0;32m    <a href='file:///c%3A/Users/krisu/anaconda3/envs/sklearn-env/lib/site-packages/sklearn/model_selection/_search.py?line=848'>849</a>\u001b[0m     )\n\u001b[0;32m    <a href='file:///c%3A/Users/krisu/anaconda3/envs/sklearn-env/lib/site-packages/sklearn/model_selection/_search.py?line=849'>850</a>\u001b[0m     \u001b[39mfor\u001b[39;49;00m (cand_idx, parameters), (split_idx, (train, test)) \u001b[39min\u001b[39;49;00m product(\n\u001b[0;32m    <a href='file:///c%3A/Users/krisu/anaconda3/envs/sklearn-env/lib/site-packages/sklearn/model_selection/_search.py?line=850'>851</a>\u001b[0m         \u001b[39menumerate\u001b[39;49m(candidate_params), \u001b[39menumerate\u001b[39;49m(cv\u001b[39m.\u001b[39;49msplit(X, y, groups))\n\u001b[0;32m    <a href='file:///c%3A/Users/krisu/anaconda3/envs/sklearn-env/lib/site-packages/sklearn/model_selection/_search.py?line=851'>852</a>\u001b[0m     )\n\u001b[0;32m    <a href='file:///c%3A/Users/krisu/anaconda3/envs/sklearn-env/lib/site-packages/sklearn/model_selection/_search.py?line=852'>853</a>\u001b[0m )\n\u001b[0;32m    <a href='file:///c%3A/Users/krisu/anaconda3/envs/sklearn-env/lib/site-packages/sklearn/model_selection/_search.py?line=854'>855</a>\u001b[0m \u001b[39mif\u001b[39;00m \u001b[39mlen\u001b[39m(out) \u001b[39m<\u001b[39m \u001b[39m1\u001b[39m:\n\u001b[0;32m    <a href='file:///c%3A/Users/krisu/anaconda3/envs/sklearn-env/lib/site-packages/sklearn/model_selection/_search.py?line=855'>856</a>\u001b[0m     \u001b[39mraise\u001b[39;00m \u001b[39mValueError\u001b[39;00m(\n\u001b[0;32m    <a href='file:///c%3A/Users/krisu/anaconda3/envs/sklearn-env/lib/site-packages/sklearn/model_selection/_search.py?line=856'>857</a>\u001b[0m         \u001b[39m\"\u001b[39m\u001b[39mNo fits were performed. \u001b[39m\u001b[39m\"\u001b[39m\n\u001b[0;32m    <a href='file:///c%3A/Users/krisu/anaconda3/envs/sklearn-env/lib/site-packages/sklearn/model_selection/_search.py?line=857'>858</a>\u001b[0m         \u001b[39m\"\u001b[39m\u001b[39mWas the CV iterator empty? \u001b[39m\u001b[39m\"\u001b[39m\n\u001b[0;32m    <a href='file:///c%3A/Users/krisu/anaconda3/envs/sklearn-env/lib/site-packages/sklearn/model_selection/_search.py?line=858'>859</a>\u001b[0m         \u001b[39m\"\u001b[39m\u001b[39mWere there no candidates?\u001b[39m\u001b[39m\"\u001b[39m\n\u001b[0;32m    <a href='file:///c%3A/Users/krisu/anaconda3/envs/sklearn-env/lib/site-packages/sklearn/model_selection/_search.py?line=859'>860</a>\u001b[0m     )\n",
      "File \u001b[1;32mc:\\Users\\krisu\\anaconda3\\envs\\sklearn-env\\lib\\site-packages\\joblib\\parallel.py:1046\u001b[0m, in \u001b[0;36mParallel.__call__\u001b[1;34m(self, iterable)\u001b[0m\n\u001b[0;32m   <a href='file:///c%3A/Users/krisu/anaconda3/envs/sklearn-env/lib/site-packages/joblib/parallel.py?line=1042'>1043</a>\u001b[0m \u001b[39mif\u001b[39;00m \u001b[39mself\u001b[39m\u001b[39m.\u001b[39mdispatch_one_batch(iterator):\n\u001b[0;32m   <a href='file:///c%3A/Users/krisu/anaconda3/envs/sklearn-env/lib/site-packages/joblib/parallel.py?line=1043'>1044</a>\u001b[0m     \u001b[39mself\u001b[39m\u001b[39m.\u001b[39m_iterating \u001b[39m=\u001b[39m \u001b[39mself\u001b[39m\u001b[39m.\u001b[39m_original_iterator \u001b[39mis\u001b[39;00m \u001b[39mnot\u001b[39;00m \u001b[39mNone\u001b[39;00m\n\u001b[1;32m-> <a href='file:///c%3A/Users/krisu/anaconda3/envs/sklearn-env/lib/site-packages/joblib/parallel.py?line=1045'>1046</a>\u001b[0m \u001b[39mwhile\u001b[39;00m \u001b[39mself\u001b[39;49m\u001b[39m.\u001b[39;49mdispatch_one_batch(iterator):\n\u001b[0;32m   <a href='file:///c%3A/Users/krisu/anaconda3/envs/sklearn-env/lib/site-packages/joblib/parallel.py?line=1046'>1047</a>\u001b[0m     \u001b[39mpass\u001b[39;00m\n\u001b[0;32m   <a href='file:///c%3A/Users/krisu/anaconda3/envs/sklearn-env/lib/site-packages/joblib/parallel.py?line=1048'>1049</a>\u001b[0m \u001b[39mif\u001b[39;00m pre_dispatch \u001b[39m==\u001b[39m \u001b[39m\"\u001b[39m\u001b[39mall\u001b[39m\u001b[39m\"\u001b[39m \u001b[39mor\u001b[39;00m n_jobs \u001b[39m==\u001b[39m \u001b[39m1\u001b[39m:\n\u001b[0;32m   <a href='file:///c%3A/Users/krisu/anaconda3/envs/sklearn-env/lib/site-packages/joblib/parallel.py?line=1049'>1050</a>\u001b[0m     \u001b[39m# The iterable was consumed all at once by the above for loop.\u001b[39;00m\n\u001b[0;32m   <a href='file:///c%3A/Users/krisu/anaconda3/envs/sklearn-env/lib/site-packages/joblib/parallel.py?line=1050'>1051</a>\u001b[0m     \u001b[39m# No need to wait for async callbacks to trigger to\u001b[39;00m\n\u001b[0;32m   <a href='file:///c%3A/Users/krisu/anaconda3/envs/sklearn-env/lib/site-packages/joblib/parallel.py?line=1051'>1052</a>\u001b[0m     \u001b[39m# consumption.\u001b[39;00m\n",
      "File \u001b[1;32mc:\\Users\\krisu\\anaconda3\\envs\\sklearn-env\\lib\\site-packages\\joblib\\parallel.py:861\u001b[0m, in \u001b[0;36mParallel.dispatch_one_batch\u001b[1;34m(self, iterator)\u001b[0m\n\u001b[0;32m    <a href='file:///c%3A/Users/krisu/anaconda3/envs/sklearn-env/lib/site-packages/joblib/parallel.py?line=858'>859</a>\u001b[0m     \u001b[39mreturn\u001b[39;00m \u001b[39mFalse\u001b[39;00m\n\u001b[0;32m    <a href='file:///c%3A/Users/krisu/anaconda3/envs/sklearn-env/lib/site-packages/joblib/parallel.py?line=859'>860</a>\u001b[0m \u001b[39melse\u001b[39;00m:\n\u001b[1;32m--> <a href='file:///c%3A/Users/krisu/anaconda3/envs/sklearn-env/lib/site-packages/joblib/parallel.py?line=860'>861</a>\u001b[0m     \u001b[39mself\u001b[39;49m\u001b[39m.\u001b[39;49m_dispatch(tasks)\n\u001b[0;32m    <a href='file:///c%3A/Users/krisu/anaconda3/envs/sklearn-env/lib/site-packages/joblib/parallel.py?line=861'>862</a>\u001b[0m     \u001b[39mreturn\u001b[39;00m \u001b[39mTrue\u001b[39;00m\n",
      "File \u001b[1;32mc:\\Users\\krisu\\anaconda3\\envs\\sklearn-env\\lib\\site-packages\\joblib\\parallel.py:779\u001b[0m, in \u001b[0;36mParallel._dispatch\u001b[1;34m(self, batch)\u001b[0m\n\u001b[0;32m    <a href='file:///c%3A/Users/krisu/anaconda3/envs/sklearn-env/lib/site-packages/joblib/parallel.py?line=776'>777</a>\u001b[0m \u001b[39mwith\u001b[39;00m \u001b[39mself\u001b[39m\u001b[39m.\u001b[39m_lock:\n\u001b[0;32m    <a href='file:///c%3A/Users/krisu/anaconda3/envs/sklearn-env/lib/site-packages/joblib/parallel.py?line=777'>778</a>\u001b[0m     job_idx \u001b[39m=\u001b[39m \u001b[39mlen\u001b[39m(\u001b[39mself\u001b[39m\u001b[39m.\u001b[39m_jobs)\n\u001b[1;32m--> <a href='file:///c%3A/Users/krisu/anaconda3/envs/sklearn-env/lib/site-packages/joblib/parallel.py?line=778'>779</a>\u001b[0m     job \u001b[39m=\u001b[39m \u001b[39mself\u001b[39;49m\u001b[39m.\u001b[39;49m_backend\u001b[39m.\u001b[39;49mapply_async(batch, callback\u001b[39m=\u001b[39;49mcb)\n\u001b[0;32m    <a href='file:///c%3A/Users/krisu/anaconda3/envs/sklearn-env/lib/site-packages/joblib/parallel.py?line=779'>780</a>\u001b[0m     \u001b[39m# A job can complete so quickly than its callback is\u001b[39;00m\n\u001b[0;32m    <a href='file:///c%3A/Users/krisu/anaconda3/envs/sklearn-env/lib/site-packages/joblib/parallel.py?line=780'>781</a>\u001b[0m     \u001b[39m# called before we get here, causing self._jobs to\u001b[39;00m\n\u001b[0;32m    <a href='file:///c%3A/Users/krisu/anaconda3/envs/sklearn-env/lib/site-packages/joblib/parallel.py?line=781'>782</a>\u001b[0m     \u001b[39m# grow. To ensure correct results ordering, .insert is\u001b[39;00m\n\u001b[0;32m    <a href='file:///c%3A/Users/krisu/anaconda3/envs/sklearn-env/lib/site-packages/joblib/parallel.py?line=782'>783</a>\u001b[0m     \u001b[39m# used (rather than .append) in the following line\u001b[39;00m\n\u001b[0;32m    <a href='file:///c%3A/Users/krisu/anaconda3/envs/sklearn-env/lib/site-packages/joblib/parallel.py?line=783'>784</a>\u001b[0m     \u001b[39mself\u001b[39m\u001b[39m.\u001b[39m_jobs\u001b[39m.\u001b[39minsert(job_idx, job)\n",
      "File \u001b[1;32mc:\\Users\\krisu\\anaconda3\\envs\\sklearn-env\\lib\\site-packages\\joblib\\_parallel_backends.py:208\u001b[0m, in \u001b[0;36mSequentialBackend.apply_async\u001b[1;34m(self, func, callback)\u001b[0m\n\u001b[0;32m    <a href='file:///c%3A/Users/krisu/anaconda3/envs/sklearn-env/lib/site-packages/joblib/_parallel_backends.py?line=205'>206</a>\u001b[0m \u001b[39mdef\u001b[39;00m \u001b[39mapply_async\u001b[39m(\u001b[39mself\u001b[39m, func, callback\u001b[39m=\u001b[39m\u001b[39mNone\u001b[39;00m):\n\u001b[0;32m    <a href='file:///c%3A/Users/krisu/anaconda3/envs/sklearn-env/lib/site-packages/joblib/_parallel_backends.py?line=206'>207</a>\u001b[0m     \u001b[39m\"\"\"Schedule a func to be run\"\"\"\u001b[39;00m\n\u001b[1;32m--> <a href='file:///c%3A/Users/krisu/anaconda3/envs/sklearn-env/lib/site-packages/joblib/_parallel_backends.py?line=207'>208</a>\u001b[0m     result \u001b[39m=\u001b[39m ImmediateResult(func)\n\u001b[0;32m    <a href='file:///c%3A/Users/krisu/anaconda3/envs/sklearn-env/lib/site-packages/joblib/_parallel_backends.py?line=208'>209</a>\u001b[0m     \u001b[39mif\u001b[39;00m callback:\n\u001b[0;32m    <a href='file:///c%3A/Users/krisu/anaconda3/envs/sklearn-env/lib/site-packages/joblib/_parallel_backends.py?line=209'>210</a>\u001b[0m         callback(result)\n",
      "File \u001b[1;32mc:\\Users\\krisu\\anaconda3\\envs\\sklearn-env\\lib\\site-packages\\joblib\\_parallel_backends.py:572\u001b[0m, in \u001b[0;36mImmediateResult.__init__\u001b[1;34m(self, batch)\u001b[0m\n\u001b[0;32m    <a href='file:///c%3A/Users/krisu/anaconda3/envs/sklearn-env/lib/site-packages/joblib/_parallel_backends.py?line=568'>569</a>\u001b[0m \u001b[39mdef\u001b[39;00m \u001b[39m__init__\u001b[39m(\u001b[39mself\u001b[39m, batch):\n\u001b[0;32m    <a href='file:///c%3A/Users/krisu/anaconda3/envs/sklearn-env/lib/site-packages/joblib/_parallel_backends.py?line=569'>570</a>\u001b[0m     \u001b[39m# Don't delay the application, to avoid keeping the input\u001b[39;00m\n\u001b[0;32m    <a href='file:///c%3A/Users/krisu/anaconda3/envs/sklearn-env/lib/site-packages/joblib/_parallel_backends.py?line=570'>571</a>\u001b[0m     \u001b[39m# arguments in memory\u001b[39;00m\n\u001b[1;32m--> <a href='file:///c%3A/Users/krisu/anaconda3/envs/sklearn-env/lib/site-packages/joblib/_parallel_backends.py?line=571'>572</a>\u001b[0m     \u001b[39mself\u001b[39m\u001b[39m.\u001b[39mresults \u001b[39m=\u001b[39m batch()\n",
      "File \u001b[1;32mc:\\Users\\krisu\\anaconda3\\envs\\sklearn-env\\lib\\site-packages\\joblib\\parallel.py:262\u001b[0m, in \u001b[0;36mBatchedCalls.__call__\u001b[1;34m(self)\u001b[0m\n\u001b[0;32m    <a href='file:///c%3A/Users/krisu/anaconda3/envs/sklearn-env/lib/site-packages/joblib/parallel.py?line=257'>258</a>\u001b[0m \u001b[39mdef\u001b[39;00m \u001b[39m__call__\u001b[39m(\u001b[39mself\u001b[39m):\n\u001b[0;32m    <a href='file:///c%3A/Users/krisu/anaconda3/envs/sklearn-env/lib/site-packages/joblib/parallel.py?line=258'>259</a>\u001b[0m     \u001b[39m# Set the default nested backend to self._backend but do not set the\u001b[39;00m\n\u001b[0;32m    <a href='file:///c%3A/Users/krisu/anaconda3/envs/sklearn-env/lib/site-packages/joblib/parallel.py?line=259'>260</a>\u001b[0m     \u001b[39m# change the default number of processes to -1\u001b[39;00m\n\u001b[0;32m    <a href='file:///c%3A/Users/krisu/anaconda3/envs/sklearn-env/lib/site-packages/joblib/parallel.py?line=260'>261</a>\u001b[0m     \u001b[39mwith\u001b[39;00m parallel_backend(\u001b[39mself\u001b[39m\u001b[39m.\u001b[39m_backend, n_jobs\u001b[39m=\u001b[39m\u001b[39mself\u001b[39m\u001b[39m.\u001b[39m_n_jobs):\n\u001b[1;32m--> <a href='file:///c%3A/Users/krisu/anaconda3/envs/sklearn-env/lib/site-packages/joblib/parallel.py?line=261'>262</a>\u001b[0m         \u001b[39mreturn\u001b[39;00m [func(\u001b[39m*\u001b[39margs, \u001b[39m*\u001b[39m\u001b[39m*\u001b[39mkwargs)\n\u001b[0;32m    <a href='file:///c%3A/Users/krisu/anaconda3/envs/sklearn-env/lib/site-packages/joblib/parallel.py?line=262'>263</a>\u001b[0m                 \u001b[39mfor\u001b[39;00m func, args, kwargs \u001b[39min\u001b[39;00m \u001b[39mself\u001b[39m\u001b[39m.\u001b[39mitems]\n",
      "File \u001b[1;32mc:\\Users\\krisu\\anaconda3\\envs\\sklearn-env\\lib\\site-packages\\joblib\\parallel.py:262\u001b[0m, in \u001b[0;36m<listcomp>\u001b[1;34m(.0)\u001b[0m\n\u001b[0;32m    <a href='file:///c%3A/Users/krisu/anaconda3/envs/sklearn-env/lib/site-packages/joblib/parallel.py?line=257'>258</a>\u001b[0m \u001b[39mdef\u001b[39;00m \u001b[39m__call__\u001b[39m(\u001b[39mself\u001b[39m):\n\u001b[0;32m    <a href='file:///c%3A/Users/krisu/anaconda3/envs/sklearn-env/lib/site-packages/joblib/parallel.py?line=258'>259</a>\u001b[0m     \u001b[39m# Set the default nested backend to self._backend but do not set the\u001b[39;00m\n\u001b[0;32m    <a href='file:///c%3A/Users/krisu/anaconda3/envs/sklearn-env/lib/site-packages/joblib/parallel.py?line=259'>260</a>\u001b[0m     \u001b[39m# change the default number of processes to -1\u001b[39;00m\n\u001b[0;32m    <a href='file:///c%3A/Users/krisu/anaconda3/envs/sklearn-env/lib/site-packages/joblib/parallel.py?line=260'>261</a>\u001b[0m     \u001b[39mwith\u001b[39;00m parallel_backend(\u001b[39mself\u001b[39m\u001b[39m.\u001b[39m_backend, n_jobs\u001b[39m=\u001b[39m\u001b[39mself\u001b[39m\u001b[39m.\u001b[39m_n_jobs):\n\u001b[1;32m--> <a href='file:///c%3A/Users/krisu/anaconda3/envs/sklearn-env/lib/site-packages/joblib/parallel.py?line=261'>262</a>\u001b[0m         \u001b[39mreturn\u001b[39;00m [func(\u001b[39m*\u001b[39margs, \u001b[39m*\u001b[39m\u001b[39m*\u001b[39mkwargs)\n\u001b[0;32m    <a href='file:///c%3A/Users/krisu/anaconda3/envs/sklearn-env/lib/site-packages/joblib/parallel.py?line=262'>263</a>\u001b[0m                 \u001b[39mfor\u001b[39;00m func, args, kwargs \u001b[39min\u001b[39;00m \u001b[39mself\u001b[39m\u001b[39m.\u001b[39mitems]\n",
      "File \u001b[1;32mc:\\Users\\krisu\\anaconda3\\envs\\sklearn-env\\lib\\site-packages\\sklearn\\utils\\fixes.py:216\u001b[0m, in \u001b[0;36m_FuncWrapper.__call__\u001b[1;34m(self, *args, **kwargs)\u001b[0m\n\u001b[0;32m    <a href='file:///c%3A/Users/krisu/anaconda3/envs/sklearn-env/lib/site-packages/sklearn/utils/fixes.py?line=213'>214</a>\u001b[0m \u001b[39mdef\u001b[39;00m \u001b[39m__call__\u001b[39m(\u001b[39mself\u001b[39m, \u001b[39m*\u001b[39margs, \u001b[39m*\u001b[39m\u001b[39m*\u001b[39mkwargs):\n\u001b[0;32m    <a href='file:///c%3A/Users/krisu/anaconda3/envs/sklearn-env/lib/site-packages/sklearn/utils/fixes.py?line=214'>215</a>\u001b[0m     \u001b[39mwith\u001b[39;00m config_context(\u001b[39m*\u001b[39m\u001b[39m*\u001b[39m\u001b[39mself\u001b[39m\u001b[39m.\u001b[39mconfig):\n\u001b[1;32m--> <a href='file:///c%3A/Users/krisu/anaconda3/envs/sklearn-env/lib/site-packages/sklearn/utils/fixes.py?line=215'>216</a>\u001b[0m         \u001b[39mreturn\u001b[39;00m \u001b[39mself\u001b[39m\u001b[39m.\u001b[39mfunction(\u001b[39m*\u001b[39margs, \u001b[39m*\u001b[39m\u001b[39m*\u001b[39mkwargs)\n",
      "File \u001b[1;32mc:\\Users\\krisu\\anaconda3\\envs\\sklearn-env\\lib\\site-packages\\sklearn\\model_selection\\_validation.py:672\u001b[0m, in \u001b[0;36m_fit_and_score\u001b[1;34m(estimator, X, y, scorer, train, test, verbose, parameters, fit_params, return_train_score, return_parameters, return_n_test_samples, return_times, return_estimator, split_progress, candidate_progress, error_score)\u001b[0m\n\u001b[0;32m    <a href='file:///c%3A/Users/krisu/anaconda3/envs/sklearn-env/lib/site-packages/sklearn/model_selection/_validation.py?line=667'>668</a>\u001b[0m     estimator \u001b[39m=\u001b[39m estimator\u001b[39m.\u001b[39mset_params(\u001b[39m*\u001b[39m\u001b[39m*\u001b[39mcloned_parameters)\n\u001b[0;32m    <a href='file:///c%3A/Users/krisu/anaconda3/envs/sklearn-env/lib/site-packages/sklearn/model_selection/_validation.py?line=669'>670</a>\u001b[0m start_time \u001b[39m=\u001b[39m time\u001b[39m.\u001b[39mtime()\n\u001b[1;32m--> <a href='file:///c%3A/Users/krisu/anaconda3/envs/sklearn-env/lib/site-packages/sklearn/model_selection/_validation.py?line=671'>672</a>\u001b[0m X_train, y_train \u001b[39m=\u001b[39m _safe_split(estimator, X, y, train)\n\u001b[0;32m    <a href='file:///c%3A/Users/krisu/anaconda3/envs/sklearn-env/lib/site-packages/sklearn/model_selection/_validation.py?line=672'>673</a>\u001b[0m X_test, y_test \u001b[39m=\u001b[39m _safe_split(estimator, X, y, test, train)\n\u001b[0;32m    <a href='file:///c%3A/Users/krisu/anaconda3/envs/sklearn-env/lib/site-packages/sklearn/model_selection/_validation.py?line=674'>675</a>\u001b[0m result \u001b[39m=\u001b[39m {}\n",
      "File \u001b[1;32mc:\\Users\\krisu\\anaconda3\\envs\\sklearn-env\\lib\\site-packages\\sklearn\\utils\\metaestimators.py:288\u001b[0m, in \u001b[0;36m_safe_split\u001b[1;34m(estimator, X, y, indices, train_indices)\u001b[0m\n\u001b[0;32m    <a href='file:///c%3A/Users/krisu/anaconda3/envs/sklearn-env/lib/site-packages/sklearn/utils/metaestimators.py?line=285'>286</a>\u001b[0m         X_subset \u001b[39m=\u001b[39m X[np\u001b[39m.\u001b[39mix_(indices, train_indices)]\n\u001b[0;32m    <a href='file:///c%3A/Users/krisu/anaconda3/envs/sklearn-env/lib/site-packages/sklearn/utils/metaestimators.py?line=286'>287</a>\u001b[0m \u001b[39melse\u001b[39;00m:\n\u001b[1;32m--> <a href='file:///c%3A/Users/krisu/anaconda3/envs/sklearn-env/lib/site-packages/sklearn/utils/metaestimators.py?line=287'>288</a>\u001b[0m     X_subset \u001b[39m=\u001b[39m _safe_indexing(X, indices)\n\u001b[0;32m    <a href='file:///c%3A/Users/krisu/anaconda3/envs/sklearn-env/lib/site-packages/sklearn/utils/metaestimators.py?line=289'>290</a>\u001b[0m \u001b[39mif\u001b[39;00m y \u001b[39mis\u001b[39;00m \u001b[39mnot\u001b[39;00m \u001b[39mNone\u001b[39;00m:\n\u001b[0;32m    <a href='file:///c%3A/Users/krisu/anaconda3/envs/sklearn-env/lib/site-packages/sklearn/utils/metaestimators.py?line=290'>291</a>\u001b[0m     y_subset \u001b[39m=\u001b[39m _safe_indexing(y, indices)\n",
      "File \u001b[1;32mc:\\Users\\krisu\\anaconda3\\envs\\sklearn-env\\lib\\site-packages\\sklearn\\utils\\__init__.py:378\u001b[0m, in \u001b[0;36m_safe_indexing\u001b[1;34m(X, indices, axis)\u001b[0m\n\u001b[0;32m    <a href='file:///c%3A/Users/krisu/anaconda3/envs/sklearn-env/lib/site-packages/sklearn/utils/__init__.py?line=375'>376</a>\u001b[0m     \u001b[39mreturn\u001b[39;00m _pandas_indexing(X, indices, indices_dtype, axis\u001b[39m=\u001b[39maxis)\n\u001b[0;32m    <a href='file:///c%3A/Users/krisu/anaconda3/envs/sklearn-env/lib/site-packages/sklearn/utils/__init__.py?line=376'>377</a>\u001b[0m \u001b[39melif\u001b[39;00m \u001b[39mhasattr\u001b[39m(X, \u001b[39m\"\u001b[39m\u001b[39mshape\u001b[39m\u001b[39m\"\u001b[39m):\n\u001b[1;32m--> <a href='file:///c%3A/Users/krisu/anaconda3/envs/sklearn-env/lib/site-packages/sklearn/utils/__init__.py?line=377'>378</a>\u001b[0m     \u001b[39mreturn\u001b[39;00m _array_indexing(X, indices, indices_dtype, axis\u001b[39m=\u001b[39;49maxis)\n\u001b[0;32m    <a href='file:///c%3A/Users/krisu/anaconda3/envs/sklearn-env/lib/site-packages/sklearn/utils/__init__.py?line=378'>379</a>\u001b[0m \u001b[39melse\u001b[39;00m:\n\u001b[0;32m    <a href='file:///c%3A/Users/krisu/anaconda3/envs/sklearn-env/lib/site-packages/sklearn/utils/__init__.py?line=379'>380</a>\u001b[0m     \u001b[39mreturn\u001b[39;00m _list_indexing(X, indices, indices_dtype)\n",
      "File \u001b[1;32mc:\\Users\\krisu\\anaconda3\\envs\\sklearn-env\\lib\\site-packages\\sklearn\\utils\\__init__.py:202\u001b[0m, in \u001b[0;36m_array_indexing\u001b[1;34m(array, key, key_dtype, axis)\u001b[0m\n\u001b[0;32m    <a href='file:///c%3A/Users/krisu/anaconda3/envs/sklearn-env/lib/site-packages/sklearn/utils/__init__.py?line=199'>200</a>\u001b[0m \u001b[39mif\u001b[39;00m \u001b[39misinstance\u001b[39m(key, \u001b[39mtuple\u001b[39m):\n\u001b[0;32m    <a href='file:///c%3A/Users/krisu/anaconda3/envs/sklearn-env/lib/site-packages/sklearn/utils/__init__.py?line=200'>201</a>\u001b[0m     key \u001b[39m=\u001b[39m \u001b[39mlist\u001b[39m(key)\n\u001b[1;32m--> <a href='file:///c%3A/Users/krisu/anaconda3/envs/sklearn-env/lib/site-packages/sklearn/utils/__init__.py?line=201'>202</a>\u001b[0m \u001b[39mreturn\u001b[39;00m array[key] \u001b[39mif\u001b[39;00m axis \u001b[39m==\u001b[39m \u001b[39m0\u001b[39m \u001b[39melse\u001b[39;00m array[:, key]\n",
      "File \u001b[1;32mc:\\Users\\krisu\\anaconda3\\envs\\sklearn-env\\lib\\site-packages\\scipy\\sparse\\_index.py:57\u001b[0m, in \u001b[0;36mIndexMixin.__getitem__\u001b[1;34m(self, key)\u001b[0m\n\u001b[0;32m     <a href='file:///c%3A/Users/krisu/anaconda3/envs/sklearn-env/lib/site-packages/scipy/sparse/_index.py?line=54'>55</a>\u001b[0m         \u001b[39mreturn\u001b[39;00m \u001b[39mself\u001b[39m\u001b[39m.\u001b[39m_get_arrayXint(row, col)\n\u001b[0;32m     <a href='file:///c%3A/Users/krisu/anaconda3/envs/sklearn-env/lib/site-packages/scipy/sparse/_index.py?line=55'>56</a>\u001b[0m     \u001b[39melif\u001b[39;00m \u001b[39misinstance\u001b[39m(col, \u001b[39mslice\u001b[39m):\n\u001b[1;32m---> <a href='file:///c%3A/Users/krisu/anaconda3/envs/sklearn-env/lib/site-packages/scipy/sparse/_index.py?line=56'>57</a>\u001b[0m         \u001b[39mreturn\u001b[39;00m \u001b[39mself\u001b[39;49m\u001b[39m.\u001b[39;49m_get_arrayXslice(row, col)\n\u001b[0;32m     <a href='file:///c%3A/Users/krisu/anaconda3/envs/sklearn-env/lib/site-packages/scipy/sparse/_index.py?line=57'>58</a>\u001b[0m \u001b[39melse\u001b[39;00m:  \u001b[39m# row.ndim == 2\u001b[39;00m\n\u001b[0;32m     <a href='file:///c%3A/Users/krisu/anaconda3/envs/sklearn-env/lib/site-packages/scipy/sparse/_index.py?line=58'>59</a>\u001b[0m     \u001b[39mif\u001b[39;00m \u001b[39misinstance\u001b[39m(col, INT_TYPES):\n",
      "File \u001b[1;32mc:\\Users\\krisu\\anaconda3\\envs\\sklearn-env\\lib\\site-packages\\scipy\\sparse\\csr.py:332\u001b[0m, in \u001b[0;36mcsr_matrix._get_arrayXslice\u001b[1;34m(self, row, col)\u001b[0m\n\u001b[0;32m    <a href='file:///c%3A/Users/krisu/anaconda3/envs/sklearn-env/lib/site-packages/scipy/sparse/csr.py?line=329'>330</a>\u001b[0m     col \u001b[39m=\u001b[39m np\u001b[39m.\u001b[39marange(\u001b[39m*\u001b[39mcol\u001b[39m.\u001b[39mindices(\u001b[39mself\u001b[39m\u001b[39m.\u001b[39mshape[\u001b[39m1\u001b[39m]))\n\u001b[0;32m    <a href='file:///c%3A/Users/krisu/anaconda3/envs/sklearn-env/lib/site-packages/scipy/sparse/csr.py?line=330'>331</a>\u001b[0m     \u001b[39mreturn\u001b[39;00m \u001b[39mself\u001b[39m\u001b[39m.\u001b[39m_get_arrayXarray(row, col)\n\u001b[1;32m--> <a href='file:///c%3A/Users/krisu/anaconda3/envs/sklearn-env/lib/site-packages/scipy/sparse/csr.py?line=331'>332</a>\u001b[0m \u001b[39mreturn\u001b[39;00m \u001b[39mself\u001b[39;49m\u001b[39m.\u001b[39;49m_major_index_fancy(row)\u001b[39m.\u001b[39m_get_submatrix(minor\u001b[39m=\u001b[39mcol)\n",
      "File \u001b[1;32mc:\\Users\\krisu\\anaconda3\\envs\\sklearn-env\\lib\\site-packages\\scipy\\sparse\\compressed.py:696\u001b[0m, in \u001b[0;36m_cs_matrix._major_index_fancy\u001b[1;34m(self, idx)\u001b[0m\n\u001b[0;32m    <a href='file:///c%3A/Users/krisu/anaconda3/envs/sklearn-env/lib/site-packages/scipy/sparse/compressed.py?line=693'>694</a>\u001b[0m nnz \u001b[39m=\u001b[39m res_indptr[\u001b[39m-\u001b[39m\u001b[39m1\u001b[39m]\n\u001b[0;32m    <a href='file:///c%3A/Users/krisu/anaconda3/envs/sklearn-env/lib/site-packages/scipy/sparse/compressed.py?line=694'>695</a>\u001b[0m res_indices \u001b[39m=\u001b[39m np\u001b[39m.\u001b[39mempty(nnz, dtype\u001b[39m=\u001b[39midx_dtype)\n\u001b[1;32m--> <a href='file:///c%3A/Users/krisu/anaconda3/envs/sklearn-env/lib/site-packages/scipy/sparse/compressed.py?line=695'>696</a>\u001b[0m res_data \u001b[39m=\u001b[39m np\u001b[39m.\u001b[39;49mempty(nnz, dtype\u001b[39m=\u001b[39;49m\u001b[39mself\u001b[39;49m\u001b[39m.\u001b[39;49mdtype)\n\u001b[0;32m    <a href='file:///c%3A/Users/krisu/anaconda3/envs/sklearn-env/lib/site-packages/scipy/sparse/compressed.py?line=696'>697</a>\u001b[0m csr_row_index(M, indices, \u001b[39mself\u001b[39m\u001b[39m.\u001b[39mindptr, \u001b[39mself\u001b[39m\u001b[39m.\u001b[39mindices, \u001b[39mself\u001b[39m\u001b[39m.\u001b[39mdata,\n\u001b[0;32m    <a href='file:///c%3A/Users/krisu/anaconda3/envs/sklearn-env/lib/site-packages/scipy/sparse/compressed.py?line=697'>698</a>\u001b[0m               res_indices, res_data)\n\u001b[0;32m    <a href='file:///c%3A/Users/krisu/anaconda3/envs/sklearn-env/lib/site-packages/scipy/sparse/compressed.py?line=699'>700</a>\u001b[0m \u001b[39mreturn\u001b[39;00m \u001b[39mself\u001b[39m\u001b[39m.\u001b[39m\u001b[39m__class__\u001b[39m((res_data, res_indices, res_indptr),\n\u001b[0;32m    <a href='file:///c%3A/Users/krisu/anaconda3/envs/sklearn-env/lib/site-packages/scipy/sparse/compressed.py?line=700'>701</a>\u001b[0m                       shape\u001b[39m=\u001b[39mnew_shape, copy\u001b[39m=\u001b[39m\u001b[39mFalse\u001b[39;00m)\n",
      "\u001b[1;31mMemoryError\u001b[0m: Unable to allocate 25.1 MiB for an array with shape (3292513,) and data type float64"
     ]
    }
   ],
   "source": [
    "model_uni_bi_sw = train_evaluate(X_train_uni_bi_sw, X_test_uni_bi_sw)"
   ]
  },
  {
   "cell_type": "code",
   "execution_count": null,
   "id": "35ac075d",
   "metadata": {},
   "outputs": [],
   "source": [
    "model_uni_bi.predict(\"The food is great! Especially the unagi!\")"
   ]
  },
  {
   "cell_type": "markdown",
   "id": "7378067d",
   "metadata": {},
   "source": [
    "Negative review?"
   ]
  },
  {
   "cell_type": "code",
   "execution_count": null,
   "id": "470b7605",
   "metadata": {},
   "outputs": [
    {
     "ename": "NameError",
     "evalue": "name 'model_uni_bi_sw' is not defined",
     "output_type": "error",
     "traceback": [
      "\u001b[1;31m---------------------------------------------------------------------------\u001b[0m",
      "\u001b[1;31mNameError\u001b[0m                                 Traceback (most recent call last)",
      "\u001b[1;32mc:\\Users\\krisu\\Documents\\GitHub\\ml-group-project\\modeling\\Untitled.ipynb Cell 34'\u001b[0m in \u001b[0;36m<cell line: 1>\u001b[1;34m()\u001b[0m\n\u001b[1;32m----> <a href='vscode-notebook-cell:/c%3A/Users/krisu/Documents/GitHub/ml-group-project/modeling/Untitled.ipynb#ch0000033?line=0'>1</a>\u001b[0m model_uni_bi_sw\u001b[39m.\u001b[39mpredict([\u001b[39m\"\u001b[39m\u001b[39mThe service sucks! I will never come back again!\u001b[39m\u001b[39m\"\u001b[39m])\n",
      "\u001b[1;31mNameError\u001b[0m: name 'model_uni_bi_sw' is not defined"
     ]
    }
   ],
   "source": [
    "model_uni_bi_sw.predict([\"The service sucks! I will never come back again!\"])"
   ]
  },
  {
   "cell_type": "markdown",
   "id": "5aaa9490",
   "metadata": {},
   "source": [
    "Neutral review?"
   ]
  },
  {
   "cell_type": "code",
   "execution_count": null,
   "id": "0ee68a28",
   "metadata": {},
   "outputs": [
    {
     "ename": "NameError",
     "evalue": "name 'model_uni_bi_sw' is not defined",
     "output_type": "error",
     "traceback": [
      "\u001b[1;31m---------------------------------------------------------------------------\u001b[0m",
      "\u001b[1;31mNameError\u001b[0m                                 Traceback (most recent call last)",
      "\u001b[1;32mc:\\Users\\krisu\\Documents\\GitHub\\ml-group-project\\modeling\\Untitled.ipynb Cell 36'\u001b[0m in \u001b[0;36m<cell line: 1>\u001b[1;34m()\u001b[0m\n\u001b[1;32m----> <a href='vscode-notebook-cell:/c%3A/Users/krisu/Documents/GitHub/ml-group-project/modeling/Untitled.ipynb#ch0000035?line=0'>1</a>\u001b[0m model_uni_bi_sw\u001b[39m.\u001b[39mpredict([\u001b[39m\"\u001b[39m\u001b[39mThe food is decent but the price is a bit high.\u001b[39m\u001b[39m\"\u001b[39m])\n",
      "\u001b[1;31mNameError\u001b[0m: name 'model_uni_bi_sw' is not defined"
     ]
    }
   ],
   "source": [
    "model_uni_bi_sw.predict([\"The food is decent but the price is a bit high.\"])"
   ]
  },
  {
   "cell_type": "markdown",
   "id": "fb6a6fda",
   "metadata": {},
   "source": [
    "Sarcastic review?"
   ]
  },
  {
   "cell_type": "code",
   "execution_count": null,
   "id": "24233aea",
   "metadata": {},
   "outputs": [],
   "source": [
    "model_uni_bi_sw.predict([\"The food is so good that I think you need next level of taste buds to appreciate it.\"])"
   ]
  },
  {
   "cell_type": "markdown",
   "id": "0c9cfb4c",
   "metadata": {},
   "source": [
    "Spam review?"
   ]
  },
  {
   "cell_type": "code",
   "execution_count": null,
   "id": "e20f5363",
   "metadata": {},
   "outputs": [],
   "source": [
    "model_uni_bi_sw.predict([\"Personal loan with low interest - call 0123456789.\"])"
   ]
  },
  {
   "cell_type": "code",
   "execution_count": null,
   "id": "e1380a3a",
   "metadata": {},
   "outputs": [],
   "source": [
    "model_uni_bi_sw.predict([\"Personal loan with quick approval - call 0123456789.\"])"
   ]
  },
  {
   "cell_type": "markdown",
   "id": "c4568941",
   "metadata": {},
   "source": [
    "Random text?"
   ]
  },
  {
   "cell_type": "code",
   "execution_count": null,
   "id": "3aa4d9f5",
   "metadata": {},
   "outputs": [],
   "source": [
    "model_uni_bi_sw.predict([\"Market is bullish.\"])"
   ]
  },
  {
   "cell_type": "code",
   "execution_count": null,
   "id": "1a46e2e0",
   "metadata": {},
   "outputs": [],
   "source": [
    "model_uni_bi_sw.predict([\"Market is bullish. Forgot what's the next part of the sentence already.\"])"
   ]
  },
  {
   "cell_type": "markdown",
   "id": "60e5215d",
   "metadata": {},
   "source": [
    "Emoji?"
   ]
  },
  {
   "cell_type": "code",
   "execution_count": null,
   "id": "9c8f0ef3",
   "metadata": {},
   "outputs": [],
   "source": [
    "model_uni_bi_sw.predict([\"🙂🙂🙂\"])"
   ]
  },
  {
   "cell_type": "code",
   "execution_count": null,
   "id": "250b51be",
   "metadata": {},
   "outputs": [],
   "source": [
    "model_uni_bi_sw.predict([\"🤬🤬🤬\"])"
   ]
  }
 ],
 "metadata": {
  "interpreter": {
   "hash": "4530a92b0d25301cf4a5c3564dafe1fcd04dd8c9e5bcb46e9507db551f17b523"
  },
  "kernelspec": {
   "display_name": "Python 3.10.4 ('sklearn-env')",
   "language": "python",
   "name": "python3"
  },
  "language_info": {
   "codemirror_mode": {
    "name": "ipython",
    "version": 3
   },
   "file_extension": ".py",
   "mimetype": "text/x-python",
   "name": "python",
   "nbconvert_exporter": "python",
   "pygments_lexer": "ipython3",
   "version": "3.10.4"
  }
 },
 "nbformat": 4,
 "nbformat_minor": 5
}
