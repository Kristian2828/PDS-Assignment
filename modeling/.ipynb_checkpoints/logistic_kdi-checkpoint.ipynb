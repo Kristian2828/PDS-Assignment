{
 "cells": [
  {
   "cell_type": "code",
   "execution_count": 19,
   "id": "310127d6",
   "metadata": {},
   "outputs": [],
   "source": [
    "import numpy as np\n",
    "import pandas as pd\n",
    "from sklearn.model_selection import GridSearchCV\n",
    "from sklearn.linear_model import LogisticRegression\n",
    "from utils.data import load_file\n",
    "from utils.metrics import evaluate"
   ]
  },
  {
   "cell_type": "code",
   "execution_count": 20,
   "id": "ed4237e6",
   "metadata": {},
   "outputs": [],
   "source": [
    "y_train = load_file(\"y_train.pickle\")\n",
    "\n",
    "X_train_uni = load_file(\"X_train_uni.pickle\")\n",
    "X_test_uni = load_file(\"X_test_uni.pickle\")\n",
    "\n",
    "X_train_uni_sw = load_file(\"X_train_uni_sw.pickle\")\n",
    "X_test_uni_sw = load_file(\"X_test_uni_sw.pickle\")\n",
    "\n",
    "X_train_bi = load_file(\"X_train_bi.pickle\")\n",
    "X_test_bi = load_file(\"X_test_bi.pickle\")\n",
    "\n",
    "X_train_bi_sw = load_file(\"X_train_bi_sw.pickle\")\n",
    "X_test_bi_sw = load_file(\"X_test_bi_sw.pickle\")\n",
    "\n",
    "X_train_uni_bi = load_file(\"X_train_uni_bi.pickle\")\n",
    "X_test_uni_bi = load_file(\"X_test_uni_bi.pickle\")\n",
    "\n",
    "X_train_uni_bi_sw = load_file(\"X_train_uni_bi_sw.pickle\")\n",
    "X_test_uni_bi_sw = load_file(\"X_test_uni_bi_sw.pickle\")"
   ]
  },
  {
   "cell_type": "code",
   "execution_count": 21,
   "id": "5b3e16fd",
   "metadata": {},
   "outputs": [
    {
     "data": {
      "text/plain": [
       "array([1.e-02, 1.e-01, 1.e+00, 1.e+01, 1.e+02])"
      ]
     },
     "execution_count": 21,
     "metadata": {},
     "output_type": "execute_result"
    }
   ],
   "source": [
    "C_range = np.logspace(-2, 2, 5)\n",
    "C_range"
   ]
  },
  {
   "cell_type": "code",
   "execution_count": 22,
   "id": "84090588",
   "metadata": {},
   "outputs": [],
   "source": [
    "param_grid = {\"C\": C_range}"
   ]
  },
  {
   "cell_type": "code",
   "execution_count": 23,
   "id": "931dad4b",
   "metadata": {},
   "outputs": [],
   "source": [
    "import pickle\n",
    "\n",
    "\n",
    "def load_file(file_name):\n",
    "    path = \"../data/\" + file_name\n",
    "    with open(path, \"rb\") as f:\n",
    "        return pickle.load(f)"
   ]
  },
  {
   "cell_type": "code",
   "execution_count": 24,
   "id": "340d6636",
   "metadata": {},
   "outputs": [],
   "source": [
    "import pickle\n",
    "import matplotlib.pyplot as plt\n",
    "from sklearn.metrics import classification_report, ConfusionMatrixDisplay\n",
    "\n",
    "y_test = None\n",
    "\n",
    "\n",
    "def evaluate(y_pred):\n",
    "    global y_test\n",
    "\n",
    "    if y_test is None:\n",
    "        y_test = load_test_labels()\n",
    "\n",
    "    print(\"Classification Report:\")\n",
    "    print(classification_report(y_test, y_pred))\n",
    "\n",
    "    print(\"Confusion Matrix:\")\n",
    "    ConfusionMatrixDisplay.from_predictions(y_test, y_pred)\n",
    "    plt.show()\n",
    "\n",
    "\n",
    "def load_test_labels():\n",
    "    with open(\"../data/y_test.pickle\", \"rb\") as f:\n",
    "        return pickle.load(f)"
   ]
  },
  {
   "cell_type": "code",
   "execution_count": 25,
   "id": "48d127c1",
   "metadata": {},
   "outputs": [],
   "source": [
    "def create_grid_search():\n",
    "  model = LogisticRegression(class_weight=\"balanced\", random_state=42, max_iter=10000)\n",
    "  grid_search = GridSearchCV(model, param_grid=param_grid, cv=10, scoring=\"balanced_accuracy\")\n",
    "  return grid_search"
   ]
  },
  {
   "cell_type": "code",
   "execution_count": 26,
   "id": "ba92a5d2",
   "metadata": {},
   "outputs": [],
   "source": [
    "def train_evaluate(X_train, X_test):\n",
    "  grid_search = create_grid_search()\n",
    "  grid_search.fit(X_train, y_train)\n",
    "  \n",
    "  print(\"Best Parameters:\")\n",
    "  print(grid_search.best_params_)\n",
    "\n",
    "  y_pred = grid_search.predict(X_test)\n",
    "  evaluate(y_pred)"
   ]
  },
  {
   "cell_type": "code",
   "execution_count": 27,
   "id": "3660b06f",
   "metadata": {},
   "outputs": [
    {
     "name": "stdout",
     "output_type": "stream",
     "text": [
      "Best Parameters:\n",
      "{'C': 0.1}\n",
      "Classification Report:\n",
      "              precision    recall  f1-score   support\n",
      "\n",
      "    negative       0.83      0.84      0.83      1770\n",
      "     neutral       0.27      0.60      0.38       428\n",
      "    positive       0.96      0.84      0.90      4135\n",
      "\n",
      "    accuracy                           0.82      6333\n",
      "   macro avg       0.69      0.76      0.70      6333\n",
      "weighted avg       0.88      0.82      0.85      6333\n",
      "\n",
      "Confusion Matrix:\n"
     ]
    },
    {
     "ename": "AttributeError",
     "evalue": "type object 'ConfusionMatrixDisplay' has no attribute 'from_predictions'",
     "output_type": "error",
     "traceback": [
      "\u001b[1;31m---------------------------------------------------------------------------\u001b[0m",
      "\u001b[1;31mAttributeError\u001b[0m                            Traceback (most recent call last)",
      "\u001b[1;32m~\\AppData\\Local\\Temp/ipykernel_19224/2058772948.py\u001b[0m in \u001b[0;36m<module>\u001b[1;34m\u001b[0m\n\u001b[1;32m----> 1\u001b[1;33m \u001b[0mtrain_evaluate\u001b[0m\u001b[1;33m(\u001b[0m\u001b[0mX_train_uni\u001b[0m\u001b[1;33m,\u001b[0m \u001b[0mX_test_uni\u001b[0m\u001b[1;33m)\u001b[0m\u001b[1;33m\u001b[0m\u001b[1;33m\u001b[0m\u001b[0m\n\u001b[0m",
      "\u001b[1;32m~\\AppData\\Local\\Temp/ipykernel_19224/2788105376.py\u001b[0m in \u001b[0;36mtrain_evaluate\u001b[1;34m(X_train, X_test)\u001b[0m\n\u001b[0;32m      7\u001b[0m \u001b[1;33m\u001b[0m\u001b[0m\n\u001b[0;32m      8\u001b[0m   \u001b[0my_pred\u001b[0m \u001b[1;33m=\u001b[0m \u001b[0mgrid_search\u001b[0m\u001b[1;33m.\u001b[0m\u001b[0mpredict\u001b[0m\u001b[1;33m(\u001b[0m\u001b[0mX_test\u001b[0m\u001b[1;33m)\u001b[0m\u001b[1;33m\u001b[0m\u001b[1;33m\u001b[0m\u001b[0m\n\u001b[1;32m----> 9\u001b[1;33m   \u001b[0mevaluate\u001b[0m\u001b[1;33m(\u001b[0m\u001b[0my_pred\u001b[0m\u001b[1;33m)\u001b[0m\u001b[1;33m\u001b[0m\u001b[1;33m\u001b[0m\u001b[0m\n\u001b[0m",
      "\u001b[1;32m~\\AppData\\Local\\Temp/ipykernel_19224/335009404.py\u001b[0m in \u001b[0;36mevaluate\u001b[1;34m(y_pred)\u001b[0m\n\u001b[0;32m     16\u001b[0m \u001b[1;33m\u001b[0m\u001b[0m\n\u001b[0;32m     17\u001b[0m     \u001b[0mprint\u001b[0m\u001b[1;33m(\u001b[0m\u001b[1;34m\"Confusion Matrix:\"\u001b[0m\u001b[1;33m)\u001b[0m\u001b[1;33m\u001b[0m\u001b[1;33m\u001b[0m\u001b[0m\n\u001b[1;32m---> 18\u001b[1;33m     \u001b[0mConfusionMatrixDisplay\u001b[0m\u001b[1;33m.\u001b[0m\u001b[0mfrom_predictions\u001b[0m\u001b[1;33m(\u001b[0m\u001b[0my_test\u001b[0m\u001b[1;33m,\u001b[0m \u001b[0my_pred\u001b[0m\u001b[1;33m)\u001b[0m\u001b[1;33m\u001b[0m\u001b[1;33m\u001b[0m\u001b[0m\n\u001b[0m\u001b[0;32m     19\u001b[0m     \u001b[0mplt\u001b[0m\u001b[1;33m.\u001b[0m\u001b[0mshow\u001b[0m\u001b[1;33m(\u001b[0m\u001b[1;33m)\u001b[0m\u001b[1;33m\u001b[0m\u001b[1;33m\u001b[0m\u001b[0m\n\u001b[0;32m     20\u001b[0m \u001b[1;33m\u001b[0m\u001b[0m\n",
      "\u001b[1;31mAttributeError\u001b[0m: type object 'ConfusionMatrixDisplay' has no attribute 'from_predictions'"
     ]
    }
   ],
   "source": [
    "train_evaluate(X_train_uni, X_test_uni)"
   ]
  },
  {
   "cell_type": "code",
   "execution_count": 16,
   "id": "bb18344a",
   "metadata": {},
   "outputs": [
    {
     "name": "stdout",
     "output_type": "stream",
     "text": [
      "Best Parameters:\n",
      "{'C': 1.0}\n",
      "Classification Report:\n",
      "              precision    recall  f1-score   support\n",
      "\n",
      "    negative       0.87      0.87      0.87      1770\n",
      "     neutral       0.32      0.58      0.42       428\n",
      "    positive       0.97      0.89      0.93      4135\n",
      "\n",
      "    accuracy                           0.86      6333\n",
      "   macro avg       0.72      0.78      0.74      6333\n",
      "weighted avg       0.90      0.86      0.88      6333\n",
      "\n",
      "Confusion Matrix:\n"
     ]
    },
    {
     "ename": "AttributeError",
     "evalue": "type object 'ConfusionMatrixDisplay' has no attribute 'from_predictions'",
     "output_type": "error",
     "traceback": [
      "\u001b[1;31m---------------------------------------------------------------------------\u001b[0m",
      "\u001b[1;31mAttributeError\u001b[0m                            Traceback (most recent call last)",
      "\u001b[1;32m~\\AppData\\Local\\Temp/ipykernel_19224/441788411.py\u001b[0m in \u001b[0;36m<module>\u001b[1;34m\u001b[0m\n\u001b[1;32m----> 1\u001b[1;33m \u001b[0mtrain_evaluate\u001b[0m\u001b[1;33m(\u001b[0m\u001b[0mX_train_uni_sw\u001b[0m\u001b[1;33m,\u001b[0m \u001b[0mX_test_uni_sw\u001b[0m\u001b[1;33m)\u001b[0m\u001b[1;33m\u001b[0m\u001b[1;33m\u001b[0m\u001b[0m\n\u001b[0m",
      "\u001b[1;32m~\\AppData\\Local\\Temp/ipykernel_19224/2788105376.py\u001b[0m in \u001b[0;36mtrain_evaluate\u001b[1;34m(X_train, X_test)\u001b[0m\n\u001b[0;32m      7\u001b[0m \u001b[1;33m\u001b[0m\u001b[0m\n\u001b[0;32m      8\u001b[0m   \u001b[0my_pred\u001b[0m \u001b[1;33m=\u001b[0m \u001b[0mgrid_search\u001b[0m\u001b[1;33m.\u001b[0m\u001b[0mpredict\u001b[0m\u001b[1;33m(\u001b[0m\u001b[0mX_test\u001b[0m\u001b[1;33m)\u001b[0m\u001b[1;33m\u001b[0m\u001b[1;33m\u001b[0m\u001b[0m\n\u001b[1;32m----> 9\u001b[1;33m   \u001b[0mevaluate\u001b[0m\u001b[1;33m(\u001b[0m\u001b[0my_pred\u001b[0m\u001b[1;33m)\u001b[0m\u001b[1;33m\u001b[0m\u001b[1;33m\u001b[0m\u001b[0m\n\u001b[0m",
      "\u001b[1;32m~\\Documents\\GitHub\\ml-group-project\\modeling\\utils\\metrics.py\u001b[0m in \u001b[0;36mevaluate\u001b[1;34m(y_pred)\u001b[0m\n\u001b[0;32m     16\u001b[0m \u001b[1;33m\u001b[0m\u001b[0m\n\u001b[0;32m     17\u001b[0m     \u001b[0mprint\u001b[0m\u001b[1;33m(\u001b[0m\u001b[1;34m\"Confusion Matrix:\"\u001b[0m\u001b[1;33m)\u001b[0m\u001b[1;33m\u001b[0m\u001b[1;33m\u001b[0m\u001b[0m\n\u001b[1;32m---> 18\u001b[1;33m     \u001b[0mConfusionMatrixDisplay\u001b[0m\u001b[1;33m.\u001b[0m\u001b[0mfrom_predictions\u001b[0m\u001b[1;33m(\u001b[0m\u001b[0my_test\u001b[0m\u001b[1;33m,\u001b[0m \u001b[0my_pred\u001b[0m\u001b[1;33m)\u001b[0m\u001b[1;33m\u001b[0m\u001b[1;33m\u001b[0m\u001b[0m\n\u001b[0m\u001b[0;32m     19\u001b[0m     \u001b[0mplt\u001b[0m\u001b[1;33m.\u001b[0m\u001b[0mshow\u001b[0m\u001b[1;33m(\u001b[0m\u001b[1;33m)\u001b[0m\u001b[1;33m\u001b[0m\u001b[1;33m\u001b[0m\u001b[0m\n\u001b[0;32m     20\u001b[0m \u001b[1;33m\u001b[0m\u001b[0m\n",
      "\u001b[1;31mAttributeError\u001b[0m: type object 'ConfusionMatrixDisplay' has no attribute 'from_predictions'"
     ]
    }
   ],
   "source": [
    "train_evaluate(X_train_uni_sw, X_test_uni_sw)"
   ]
  },
  {
   "cell_type": "code",
   "execution_count": null,
   "id": "bf18e927",
   "metadata": {},
   "outputs": [],
   "source": [
    "train_evaluate(X_train_bi, X_test_bi)"
   ]
  },
  {
   "cell_type": "code",
   "execution_count": null,
   "id": "0d6bcc60",
   "metadata": {},
   "outputs": [],
   "source": [
    "train_evaluate(X_train_bi_sw, X_test_bi_sw)"
   ]
  },
  {
   "cell_type": "code",
   "execution_count": null,
   "id": "f90b7fa0",
   "metadata": {},
   "outputs": [],
   "source": [
    "train_evaluate(X_train_uni_bi, X_test_uni_bi)"
   ]
  },
  {
   "cell_type": "code",
   "execution_count": null,
   "id": "126c35e5",
   "metadata": {},
   "outputs": [],
   "source": [
    "train_evaluate(X_train_uni_bi_sw, X_test_uni_bi_sw)"
   ]
  }
 ],
 "metadata": {
  "kernelspec": {
   "display_name": "Python 3 (ipykernel)",
   "language": "python",
   "name": "python3"
  },
  "language_info": {
   "codemirror_mode": {
    "name": "ipython",
    "version": 3
   },
   "file_extension": ".py",
   "mimetype": "text/x-python",
   "name": "python",
   "nbconvert_exporter": "python",
   "pygments_lexer": "ipython3",
   "version": "3.9.7"
  }
 },
 "nbformat": 4,
 "nbformat_minor": 5
}
